{
 "cells": [
  {
   "cell_type": "code",
   "execution_count": 1,
   "id": "e2dc7fec",
   "metadata": {},
   "outputs": [],
   "source": [
    "import pandas as pd\n",
    "import scipy\n",
    "import numpy as np\n",
    "import re\n",
    "import nltk\n",
    "from scipy import sparse\n",
    "from sklearn.metrics.pairwise import cosine_similarity"
   ]
  },
  {
   "cell_type": "markdown",
   "id": "c5c9af18",
   "metadata": {},
   "source": [
    "## Retrieving data from CSV"
   ]
  },
  {
   "cell_type": "code",
   "execution_count": 2,
   "id": "3f3a7f78",
   "metadata": {
    "scrolled": true
   },
   "outputs": [
    {
     "data": {
      "text/html": [
       "<div>\n",
       "<style scoped>\n",
       "    .dataframe tbody tr th:only-of-type {\n",
       "        vertical-align: middle;\n",
       "    }\n",
       "\n",
       "    .dataframe tbody tr th {\n",
       "        vertical-align: top;\n",
       "    }\n",
       "\n",
       "    .dataframe thead th {\n",
       "        text-align: right;\n",
       "    }\n",
       "</style>\n",
       "<table border=\"1\" class=\"dataframe\">\n",
       "  <thead>\n",
       "    <tr style=\"text-align: right;\">\n",
       "      <th></th>\n",
       "      <th>movieId</th>\n",
       "      <th>title</th>\n",
       "      <th>genres</th>\n",
       "      <th>userId</th>\n",
       "      <th>rating</th>\n",
       "    </tr>\n",
       "  </thead>\n",
       "  <tbody>\n",
       "    <tr>\n",
       "      <th>0</th>\n",
       "      <td>1</td>\n",
       "      <td>Toy Story (1995)</td>\n",
       "      <td>Adventure|Animation|Children|Comedy|Fantasy</td>\n",
       "      <td>1</td>\n",
       "      <td>4.0</td>\n",
       "    </tr>\n",
       "    <tr>\n",
       "      <th>1</th>\n",
       "      <td>1</td>\n",
       "      <td>Toy Story (1995)</td>\n",
       "      <td>Adventure|Animation|Children|Comedy|Fantasy</td>\n",
       "      <td>5</td>\n",
       "      <td>4.0</td>\n",
       "    </tr>\n",
       "    <tr>\n",
       "      <th>2</th>\n",
       "      <td>1</td>\n",
       "      <td>Toy Story (1995)</td>\n",
       "      <td>Adventure|Animation|Children|Comedy|Fantasy</td>\n",
       "      <td>7</td>\n",
       "      <td>4.5</td>\n",
       "    </tr>\n",
       "    <tr>\n",
       "      <th>3</th>\n",
       "      <td>1</td>\n",
       "      <td>Toy Story (1995)</td>\n",
       "      <td>Adventure|Animation|Children|Comedy|Fantasy</td>\n",
       "      <td>15</td>\n",
       "      <td>2.5</td>\n",
       "    </tr>\n",
       "    <tr>\n",
       "      <th>4</th>\n",
       "      <td>1</td>\n",
       "      <td>Toy Story (1995)</td>\n",
       "      <td>Adventure|Animation|Children|Comedy|Fantasy</td>\n",
       "      <td>17</td>\n",
       "      <td>4.5</td>\n",
       "    </tr>\n",
       "  </tbody>\n",
       "</table>\n",
       "</div>"
      ],
      "text/plain": [
       "   movieId             title                                       genres  \\\n",
       "0        1  Toy Story (1995)  Adventure|Animation|Children|Comedy|Fantasy   \n",
       "1        1  Toy Story (1995)  Adventure|Animation|Children|Comedy|Fantasy   \n",
       "2        1  Toy Story (1995)  Adventure|Animation|Children|Comedy|Fantasy   \n",
       "3        1  Toy Story (1995)  Adventure|Animation|Children|Comedy|Fantasy   \n",
       "4        1  Toy Story (1995)  Adventure|Animation|Children|Comedy|Fantasy   \n",
       "\n",
       "   userId  rating  \n",
       "0       1     4.0  \n",
       "1       5     4.0  \n",
       "2       7     4.5  \n",
       "3      15     2.5  \n",
       "4      17     4.5  "
      ]
     },
     "execution_count": 2,
     "metadata": {},
     "output_type": "execute_result"
    }
   ],
   "source": [
    "ratings = pd.read_csv('ratings.csv')\n",
    "movies = pd.read_csv('movies.csv')\n",
    "ratings = pd.merge(movies, ratings)\n",
    "\n",
    "ratings.drop('timestamp', axis = 1, inplace=True)\n",
    "ratings.head()"
   ]
  },
  {
   "cell_type": "markdown",
   "id": "e2676ba5",
   "metadata": {},
   "source": [
    "# USER-USER Collaboration filtering Recommendation System"
   ]
  },
  {
   "cell_type": "markdown",
   "id": "a698f321",
   "metadata": {},
   "source": [
    "## Pre-processing of data"
   ]
  },
  {
   "cell_type": "markdown",
   "id": "8580038b",
   "metadata": {},
   "source": [
    "#### Filling non value data as 0"
   ]
  },
  {
   "cell_type": "code",
   "execution_count": 3,
   "id": "7f0a42f7",
   "metadata": {},
   "outputs": [
    {
     "data": {
      "text/html": [
       "<div>\n",
       "<style scoped>\n",
       "    .dataframe tbody tr th:only-of-type {\n",
       "        vertical-align: middle;\n",
       "    }\n",
       "\n",
       "    .dataframe tbody tr th {\n",
       "        vertical-align: top;\n",
       "    }\n",
       "\n",
       "    .dataframe thead th {\n",
       "        text-align: right;\n",
       "    }\n",
       "</style>\n",
       "<table border=\"1\" class=\"dataframe\">\n",
       "  <thead>\n",
       "    <tr style=\"text-align: right;\">\n",
       "      <th></th>\n",
       "      <th>movieId</th>\n",
       "      <th>title</th>\n",
       "      <th>genres</th>\n",
       "      <th>userId</th>\n",
       "      <th>rating</th>\n",
       "    </tr>\n",
       "  </thead>\n",
       "  <tbody>\n",
       "    <tr>\n",
       "      <th>0</th>\n",
       "      <td>1</td>\n",
       "      <td>Toy Story (1995)</td>\n",
       "      <td>Adventure|Animation|Children|Comedy|Fantasy</td>\n",
       "      <td>1</td>\n",
       "      <td>4.0</td>\n",
       "    </tr>\n",
       "    <tr>\n",
       "      <th>1</th>\n",
       "      <td>1</td>\n",
       "      <td>Toy Story (1995)</td>\n",
       "      <td>Adventure|Animation|Children|Comedy|Fantasy</td>\n",
       "      <td>5</td>\n",
       "      <td>4.0</td>\n",
       "    </tr>\n",
       "    <tr>\n",
       "      <th>2</th>\n",
       "      <td>1</td>\n",
       "      <td>Toy Story (1995)</td>\n",
       "      <td>Adventure|Animation|Children|Comedy|Fantasy</td>\n",
       "      <td>7</td>\n",
       "      <td>4.5</td>\n",
       "    </tr>\n",
       "    <tr>\n",
       "      <th>3</th>\n",
       "      <td>1</td>\n",
       "      <td>Toy Story (1995)</td>\n",
       "      <td>Adventure|Animation|Children|Comedy|Fantasy</td>\n",
       "      <td>15</td>\n",
       "      <td>2.5</td>\n",
       "    </tr>\n",
       "    <tr>\n",
       "      <th>4</th>\n",
       "      <td>1</td>\n",
       "      <td>Toy Story (1995)</td>\n",
       "      <td>Adventure|Animation|Children|Comedy|Fantasy</td>\n",
       "      <td>17</td>\n",
       "      <td>4.5</td>\n",
       "    </tr>\n",
       "  </tbody>\n",
       "</table>\n",
       "</div>"
      ],
      "text/plain": [
       "   movieId             title                                       genres  \\\n",
       "0        1  Toy Story (1995)  Adventure|Animation|Children|Comedy|Fantasy   \n",
       "1        1  Toy Story (1995)  Adventure|Animation|Children|Comedy|Fantasy   \n",
       "2        1  Toy Story (1995)  Adventure|Animation|Children|Comedy|Fantasy   \n",
       "3        1  Toy Story (1995)  Adventure|Animation|Children|Comedy|Fantasy   \n",
       "4        1  Toy Story (1995)  Adventure|Animation|Children|Comedy|Fantasy   \n",
       "\n",
       "   userId  rating  \n",
       "0       1     4.0  \n",
       "1       5     4.0  \n",
       "2       7     4.5  \n",
       "3      15     2.5  \n",
       "4      17     4.5  "
      ]
     },
     "execution_count": 3,
     "metadata": {},
     "output_type": "execute_result"
    }
   ],
   "source": [
    "ratings['rating'] = ratings['rating'].fillna('0')\n",
    "ratings.head()"
   ]
  },
  {
   "cell_type": "markdown",
   "id": "8dd44beb",
   "metadata": {},
   "source": [
    "#### Converting strings into lower case, removing of stop words and splitting of words"
   ]
  },
  {
   "cell_type": "code",
   "execution_count": 4,
   "id": "b921cc87",
   "metadata": {},
   "outputs": [
    {
     "data": {
      "text/html": [
       "<div>\n",
       "<style scoped>\n",
       "    .dataframe tbody tr th:only-of-type {\n",
       "        vertical-align: middle;\n",
       "    }\n",
       "\n",
       "    .dataframe tbody tr th {\n",
       "        vertical-align: top;\n",
       "    }\n",
       "\n",
       "    .dataframe thead th {\n",
       "        text-align: right;\n",
       "    }\n",
       "</style>\n",
       "<table border=\"1\" class=\"dataframe\">\n",
       "  <thead>\n",
       "    <tr style=\"text-align: right;\">\n",
       "      <th></th>\n",
       "      <th>movieId</th>\n",
       "      <th>title</th>\n",
       "      <th>genres</th>\n",
       "      <th>userId</th>\n",
       "      <th>rating</th>\n",
       "      <th>clean_genre</th>\n",
       "    </tr>\n",
       "  </thead>\n",
       "  <tbody>\n",
       "    <tr>\n",
       "      <th>0</th>\n",
       "      <td>1</td>\n",
       "      <td>Toy Story (1995)</td>\n",
       "      <td>Adventure|Animation|Children|Comedy|Fantasy</td>\n",
       "      <td>1</td>\n",
       "      <td>4.0</td>\n",
       "      <td>[adventure, animation, children, comedy, fantasy]</td>\n",
       "    </tr>\n",
       "    <tr>\n",
       "      <th>1</th>\n",
       "      <td>1</td>\n",
       "      <td>Toy Story (1995)</td>\n",
       "      <td>Adventure|Animation|Children|Comedy|Fantasy</td>\n",
       "      <td>5</td>\n",
       "      <td>4.0</td>\n",
       "      <td>[adventure, animation, children, comedy, fantasy]</td>\n",
       "    </tr>\n",
       "    <tr>\n",
       "      <th>2</th>\n",
       "      <td>1</td>\n",
       "      <td>Toy Story (1995)</td>\n",
       "      <td>Adventure|Animation|Children|Comedy|Fantasy</td>\n",
       "      <td>7</td>\n",
       "      <td>4.5</td>\n",
       "      <td>[adventure, animation, children, comedy, fantasy]</td>\n",
       "    </tr>\n",
       "    <tr>\n",
       "      <th>3</th>\n",
       "      <td>1</td>\n",
       "      <td>Toy Story (1995)</td>\n",
       "      <td>Adventure|Animation|Children|Comedy|Fantasy</td>\n",
       "      <td>15</td>\n",
       "      <td>2.5</td>\n",
       "      <td>[adventure, animation, children, comedy, fantasy]</td>\n",
       "    </tr>\n",
       "    <tr>\n",
       "      <th>4</th>\n",
       "      <td>1</td>\n",
       "      <td>Toy Story (1995)</td>\n",
       "      <td>Adventure|Animation|Children|Comedy|Fantasy</td>\n",
       "      <td>17</td>\n",
       "      <td>4.5</td>\n",
       "      <td>[adventure, animation, children, comedy, fantasy]</td>\n",
       "    </tr>\n",
       "    <tr>\n",
       "      <th>...</th>\n",
       "      <td>...</td>\n",
       "      <td>...</td>\n",
       "      <td>...</td>\n",
       "      <td>...</td>\n",
       "      <td>...</td>\n",
       "      <td>...</td>\n",
       "    </tr>\n",
       "    <tr>\n",
       "      <th>100831</th>\n",
       "      <td>193581</td>\n",
       "      <td>Black Butler: Book of the Atlantic (2017)</td>\n",
       "      <td>Action|Animation|Comedy|Fantasy</td>\n",
       "      <td>184</td>\n",
       "      <td>4.0</td>\n",
       "      <td>[action, animation, comedy, fantasy]</td>\n",
       "    </tr>\n",
       "    <tr>\n",
       "      <th>100832</th>\n",
       "      <td>193583</td>\n",
       "      <td>No Game No Life: Zero (2017)</td>\n",
       "      <td>Animation|Comedy|Fantasy</td>\n",
       "      <td>184</td>\n",
       "      <td>3.5</td>\n",
       "      <td>[animation, comedy, fantasy]</td>\n",
       "    </tr>\n",
       "    <tr>\n",
       "      <th>100833</th>\n",
       "      <td>193585</td>\n",
       "      <td>Flint (2017)</td>\n",
       "      <td>Drama</td>\n",
       "      <td>184</td>\n",
       "      <td>3.5</td>\n",
       "      <td>[drama]</td>\n",
       "    </tr>\n",
       "    <tr>\n",
       "      <th>100834</th>\n",
       "      <td>193587</td>\n",
       "      <td>Bungo Stray Dogs: Dead Apple (2018)</td>\n",
       "      <td>Action|Animation</td>\n",
       "      <td>184</td>\n",
       "      <td>3.5</td>\n",
       "      <td>[action, animation]</td>\n",
       "    </tr>\n",
       "    <tr>\n",
       "      <th>100835</th>\n",
       "      <td>193609</td>\n",
       "      <td>Andrew Dice Clay: Dice Rules (1991)</td>\n",
       "      <td>Comedy</td>\n",
       "      <td>331</td>\n",
       "      <td>4.0</td>\n",
       "      <td>[comedy]</td>\n",
       "    </tr>\n",
       "  </tbody>\n",
       "</table>\n",
       "<p>100836 rows × 6 columns</p>\n",
       "</div>"
      ],
      "text/plain": [
       "        movieId                                      title  \\\n",
       "0             1                           Toy Story (1995)   \n",
       "1             1                           Toy Story (1995)   \n",
       "2             1                           Toy Story (1995)   \n",
       "3             1                           Toy Story (1995)   \n",
       "4             1                           Toy Story (1995)   \n",
       "...         ...                                        ...   \n",
       "100831   193581  Black Butler: Book of the Atlantic (2017)   \n",
       "100832   193583               No Game No Life: Zero (2017)   \n",
       "100833   193585                               Flint (2017)   \n",
       "100834   193587        Bungo Stray Dogs: Dead Apple (2018)   \n",
       "100835   193609        Andrew Dice Clay: Dice Rules (1991)   \n",
       "\n",
       "                                             genres  userId  rating  \\\n",
       "0       Adventure|Animation|Children|Comedy|Fantasy       1     4.0   \n",
       "1       Adventure|Animation|Children|Comedy|Fantasy       5     4.0   \n",
       "2       Adventure|Animation|Children|Comedy|Fantasy       7     4.5   \n",
       "3       Adventure|Animation|Children|Comedy|Fantasy      15     2.5   \n",
       "4       Adventure|Animation|Children|Comedy|Fantasy      17     4.5   \n",
       "...                                             ...     ...     ...   \n",
       "100831              Action|Animation|Comedy|Fantasy     184     4.0   \n",
       "100832                     Animation|Comedy|Fantasy     184     3.5   \n",
       "100833                                        Drama     184     3.5   \n",
       "100834                             Action|Animation     184     3.5   \n",
       "100835                                       Comedy     331     4.0   \n",
       "\n",
       "                                              clean_genre  \n",
       "0       [adventure, animation, children, comedy, fantasy]  \n",
       "1       [adventure, animation, children, comedy, fantasy]  \n",
       "2       [adventure, animation, children, comedy, fantasy]  \n",
       "3       [adventure, animation, children, comedy, fantasy]  \n",
       "4       [adventure, animation, children, comedy, fantasy]  \n",
       "...                                                   ...  \n",
       "100831               [action, animation, comedy, fantasy]  \n",
       "100832                       [animation, comedy, fantasy]  \n",
       "100833                                            [drama]  \n",
       "100834                                [action, animation]  \n",
       "100835                                           [comedy]  \n",
       "\n",
       "[100836 rows x 6 columns]"
      ]
     },
     "execution_count": 4,
     "metadata": {},
     "output_type": "execute_result"
    }
   ],
   "source": [
    "ratings['clean_genre'] = ratings['genres'].str.lower()\n",
    "ratings['clean_genre'] = ratings['clean_genre'].apply(lambda x: re.sub(' ', '', x))\n",
    "ratings['clean_genre'] = ratings['clean_genre'].apply(lambda x: re.sub('\\s+', ' ', x))\n",
    "ratings['clean_genre'] = ratings['clean_genre'].apply(lambda x: x.split('|'))\n",
    "ratings"
   ]
  },
  {
   "cell_type": "code",
   "execution_count": 5,
   "id": "3abbb114",
   "metadata": {},
   "outputs": [
    {
     "data": {
      "text/html": [
       "<div>\n",
       "<style scoped>\n",
       "    .dataframe tbody tr th:only-of-type {\n",
       "        vertical-align: middle;\n",
       "    }\n",
       "\n",
       "    .dataframe tbody tr th {\n",
       "        vertical-align: top;\n",
       "    }\n",
       "\n",
       "    .dataframe thead th {\n",
       "        text-align: right;\n",
       "    }\n",
       "</style>\n",
       "<table border=\"1\" class=\"dataframe\">\n",
       "  <thead>\n",
       "    <tr style=\"text-align: right;\">\n",
       "      <th></th>\n",
       "      <th>title</th>\n",
       "      <th>userId</th>\n",
       "      <th>rating</th>\n",
       "      <th>clean_genre</th>\n",
       "    </tr>\n",
       "  </thead>\n",
       "  <tbody>\n",
       "    <tr>\n",
       "      <th>0</th>\n",
       "      <td>Toy Story (1995)</td>\n",
       "      <td>1</td>\n",
       "      <td>4.0</td>\n",
       "      <td>[adventure, animation, children, comedy, fantasy]</td>\n",
       "    </tr>\n",
       "    <tr>\n",
       "      <th>1</th>\n",
       "      <td>Toy Story (1995)</td>\n",
       "      <td>5</td>\n",
       "      <td>4.0</td>\n",
       "      <td>[adventure, animation, children, comedy, fantasy]</td>\n",
       "    </tr>\n",
       "    <tr>\n",
       "      <th>2</th>\n",
       "      <td>Toy Story (1995)</td>\n",
       "      <td>7</td>\n",
       "      <td>4.5</td>\n",
       "      <td>[adventure, animation, children, comedy, fantasy]</td>\n",
       "    </tr>\n",
       "    <tr>\n",
       "      <th>3</th>\n",
       "      <td>Toy Story (1995)</td>\n",
       "      <td>15</td>\n",
       "      <td>2.5</td>\n",
       "      <td>[adventure, animation, children, comedy, fantasy]</td>\n",
       "    </tr>\n",
       "    <tr>\n",
       "      <th>4</th>\n",
       "      <td>Toy Story (1995)</td>\n",
       "      <td>17</td>\n",
       "      <td>4.5</td>\n",
       "      <td>[adventure, animation, children, comedy, fantasy]</td>\n",
       "    </tr>\n",
       "  </tbody>\n",
       "</table>\n",
       "</div>"
      ],
      "text/plain": [
       "              title  userId  rating  \\\n",
       "0  Toy Story (1995)       1     4.0   \n",
       "1  Toy Story (1995)       5     4.0   \n",
       "2  Toy Story (1995)       7     4.5   \n",
       "3  Toy Story (1995)      15     2.5   \n",
       "4  Toy Story (1995)      17     4.5   \n",
       "\n",
       "                                         clean_genre  \n",
       "0  [adventure, animation, children, comedy, fantasy]  \n",
       "1  [adventure, animation, children, comedy, fantasy]  \n",
       "2  [adventure, animation, children, comedy, fantasy]  \n",
       "3  [adventure, animation, children, comedy, fantasy]  \n",
       "4  [adventure, animation, children, comedy, fantasy]  "
      ]
     },
     "execution_count": 5,
     "metadata": {},
     "output_type": "execute_result"
    }
   ],
   "source": [
    "genre_ratings = ratings[['title', 'userId', 'rating', 'clean_genre']].copy()\n",
    "genre_ratings.head()"
   ]
  },
  {
   "cell_type": "markdown",
   "id": "f0c03af7",
   "metadata": {},
   "source": [
    "## Creating functions for recommending movies of similar genres"
   ]
  },
  {
   "cell_type": "markdown",
   "id": "8865f469",
   "metadata": {},
   "source": [
    "#### Function that searches for genre type movies and returns the dataframe of movies"
   ]
  },
  {
   "cell_type": "code",
   "execution_count": 6,
   "id": "36cf7ded",
   "metadata": {},
   "outputs": [],
   "source": [
    "def get_similar_genre(genre):\n",
    "    temp = []\n",
    "    df = pd.DataFrame()\n",
    "    for i, x in enumerate(genre_ratings['clean_genre']):\n",
    "        if (all(elem in x for elem in genre)):\n",
    "            temp.append(i)\n",
    "    \n",
    "    #temp = set(temp)\n",
    "    #temp = list(temp)\n",
    "    \n",
    "    #df = genre_ratings.iloc[temp]\n",
    "    #for j, y in enumerate(genre_ratings['clean_genre']): \n",
    "        #for n in y:\n",
    "            #if (n in genre):\n",
    "                #temp.append(j)\n",
    "                    \n",
    "    temp = set(temp)\n",
    "    temp = list(temp)\n",
    "    df = genre_ratings.iloc[temp]\n",
    "    return df"
   ]
  },
  {
   "cell_type": "markdown",
   "id": "3b9c427c",
   "metadata": {},
   "source": [
    "Getting a dataframe of children genre"
   ]
  },
  {
   "cell_type": "code",
   "execution_count": 16,
   "id": "21d15b27",
   "metadata": {},
   "outputs": [],
   "source": [
    "def get_recommendation(genre, xList):\n",
    "    df_genre = pd.DataFrame()\n",
    "    df_genre = get_similar_genre(genre)\n",
    "    recc_list = []\n",
    "    index_list = xList\n",
    "    final_list = []\n",
    "    \n",
    "    #Creates a table that shows different user and their ratings to different movie titles\n",
    "    recc_ratings = df_genre.pivot_table(index=['userId'],columns=['title'],values='rating')\n",
    "    recc_ratings.fillna(0, inplace=True)\n",
    "    \n",
    "    #Sum the total ratings from all users for each movie title\n",
    "    recc_columns = recc_ratings.sum(axis=0).sort_values(ascending=False)\n",
    "    recc_columns = pd.DataFrame(recc_columns)\n",
    "    recc_columns['sum'] = recc_ratings.sum(axis=0).sort_values(ascending=False)\n",
    "    del recc_columns[recc_columns.columns[0]]\n",
    "    \n",
    "    #Count the number of users that have rated the movie\n",
    "    recc_normalization = df_genre['title'].value_counts()\n",
    "    recc_normalization = pd.DataFrame(recc_normalization)\n",
    "    recc_normalization.rename(columns={'title':'count'}, inplace=True)\n",
    "    \n",
    "    recc_merge = recc_columns.join(recc_normalization)\n",
    "    \n",
    "    #Normalizing + removing count values <= 100\n",
    "    recc_merge['normalize'] = (recc_merge['sum']/recc_merge['count'])\n",
    "    recc_merge['count'].dtypes\n",
    "    recc_merge = recc_merge[(recc_merge['count'] > 30)]\n",
    "    if (len(recc_merge) < 5):\n",
    "        get_recommendation(genre[:(len(genre)-1)], index_list)\n",
    "    else :\n",
    "        recc_merge.sort_values(by='count', ascending=False).head(10)\n",
    "        index_list = (recc_merge.index.values.tolist())\n",
    "        print(\"Top Recommendations: \")\n",
    "        \n",
    "    return index_list[:5]"
   ]
  },
  {
   "cell_type": "code",
   "execution_count": 8,
   "id": "17b37dac",
   "metadata": {},
   "outputs": [],
   "source": [
    "def get_sat(list):\n",
    "    tempdict = {}\n",
    "    for i in list:\n",
    "        selection = input(\"Are you satisfied with \" + i + \" recommendation? [Y/N]\").lower()\n",
    "        tempdict[i] = selection\n",
    "        \n",
    "    return tempdict"
   ]
  },
  {
   "cell_type": "code",
   "execution_count": 17,
   "id": "a3f976bd",
   "metadata": {},
   "outputs": [
    {
     "name": "stdout",
     "output_type": "stream",
     "text": [
      "Top Recommendations: \n",
      "['Shawshank Redemption, The (1994)']\n"
     ]
    },
    {
     "data": {
      "text/plain": [
       "['Shawshank Redemption, The (1994)',\n",
       " 'Pulp Fiction (1994)',\n",
       " 'Fight Club (1999)',\n",
       " 'Godfather, The (1972)',\n",
       " 'Fargo (1996)']"
      ]
     },
     "execution_count": 17,
     "metadata": {},
     "output_type": "execute_result"
    }
   ],
   "source": [
    "get_recommendation([\"crime\", \"drama\"], [])"
   ]
  },
  {
   "cell_type": "code",
   "execution_count": 10,
   "id": "90ad3097",
   "metadata": {},
   "outputs": [
    {
     "name": "stdout",
     "output_type": "stream",
     "text": [
      "Top Recommendations: \n"
     ]
    },
    {
     "data": {
      "text/plain": [
       "[['Incredibles, The (2004)',\n",
       "  'Goonies, The (1985)',\n",
       "  'Kung Fu Panda (2008)',\n",
       "  'Zootopia (2016)',\n",
       "  'The Lego Movie (2014)']]"
      ]
     },
     "execution_count": 10,
     "metadata": {},
     "output_type": "execute_result"
    }
   ],
   "source": [
    "get_recommendation([\"children\", \"action\", \"adventure\"], [])"
   ]
  },
  {
   "cell_type": "code",
   "execution_count": 18,
   "id": "3b313d7c",
   "metadata": {},
   "outputs": [
    {
     "name": "stdout",
     "output_type": "stream",
     "text": [
      "Top Recommendations: \n",
      "['Incredibles, The (2004)']\n",
      "Are you satisfied with Incredibles, The (2004) recommendation? [Y/N]Y\n",
      "Are you satisfied with Goonies, The (1985) recommendation? [Y/N]Y\n",
      "Are you satisfied with Kung Fu Panda (2008) recommendation? [Y/N]N\n",
      "Are you satisfied with Zootopia (2016) recommendation? [Y/N]N\n",
      "Are you satisfied with The Lego Movie (2014) recommendation? [Y/N]N\n"
     ]
    },
    {
     "data": {
      "text/plain": [
       "{'Incredibles, The (2004)': 'y',\n",
       " 'Goonies, The (1985)': 'y',\n",
       " 'Kung Fu Panda (2008)': 'n',\n",
       " 'Zootopia (2016)': 'n',\n",
       " 'The Lego Movie (2014)': 'n'}"
      ]
     },
     "execution_count": 18,
     "metadata": {},
     "output_type": "execute_result"
    }
   ],
   "source": [
    "get_sat(get_recommendation([\"children\", \"action\"], []))"
   ]
  },
  {
   "cell_type": "markdown",
   "id": "beb0d2e1",
   "metadata": {},
   "source": [
    "# NETFLIX DATA "
   ]
  },
  {
   "cell_type": "code",
   "execution_count": null,
   "id": "79438a1c",
   "metadata": {
    "scrolled": false
   },
   "outputs": [],
   "source": [
    "netflix_ratings = pd.read_csv('userDatas.csv')\n",
    "netflix_movies = pd.read_csv('netflix_titles.csv')\n",
    "movies = pd.read_csv('movies.csv')\n",
    "ratings = pd.read_csv('ratings.csv')\n",
    "\n",
    "#movies"
   ]
  },
  {
   "cell_type": "markdown",
   "id": "5f0b9e6e",
   "metadata": {},
   "source": [
    "Pre-processing of IMDB movie data"
   ]
  },
  {
   "cell_type": "code",
   "execution_count": null,
   "id": "fe98ab1b",
   "metadata": {},
   "outputs": [],
   "source": [
    "movies.title = movies.title.str.replace('\\d+', '')\n",
    "movies.title = movies.title.str.replace('(', '')\n",
    "movies.title = movies.title.str.replace(')', '')\n",
    "movies['title'] = movies['title'].str.lower()\n",
    "movies['title'] = movies['title'].str.strip()\n",
    "movies"
   ]
  },
  {
   "cell_type": "markdown",
   "id": "901e9c28",
   "metadata": {},
   "source": [
    "Pre-processing of netflix data"
   ]
  },
  {
   "cell_type": "code",
   "execution_count": null,
   "id": "0e955d9e",
   "metadata": {
    "scrolled": true
   },
   "outputs": [],
   "source": [
    "netflix_movies['title'] = netflix_movies['title'].str.lower()\n",
    "netflix_movies['title'] = netflix_movies['title'].apply(lambda x: re.sub(' ', '', x))\n",
    "netflix_movies"
   ]
  },
  {
   "cell_type": "markdown",
   "id": "003ec35f",
   "metadata": {},
   "source": [
    "Merge IMDB data and Netflix data to retrieve ratings for netflix shows for ratings"
   ]
  },
  {
   "cell_type": "code",
   "execution_count": null,
   "id": "49143f22",
   "metadata": {},
   "outputs": [],
   "source": [
    "overall_movies = movies.merge(netflix_movies, on='title', how='left')\n",
    "overall_movies"
   ]
  },
  {
   "cell_type": "code",
   "execution_count": null,
   "id": "062331f4",
   "metadata": {
    "scrolled": true
   },
   "outputs": [],
   "source": [
    "overall_movies = overall_movies.dropna()"
   ]
  },
  {
   "cell_type": "code",
   "execution_count": null,
   "id": "1032272b",
   "metadata": {},
   "outputs": [],
   "source": [
    "overall_movies = overall_movies[['movieId', 'title', 'genres']]\n",
    "overall_movies = overall_movies.merge(ratings)\n",
    "overall_movies = overall_movies.drop('timestamp', axis='columns')\n",
    "overall_movies"
   ]
  },
  {
   "cell_type": "markdown",
   "id": "42f4a992",
   "metadata": {},
   "source": [
    "Clean and split the genre in the merged dataframe"
   ]
  },
  {
   "cell_type": "code",
   "execution_count": null,
   "id": "79e1fd01",
   "metadata": {
    "scrolled": true
   },
   "outputs": [],
   "source": [
    "overall_movies['clean_genre'] = overall_movies['genres'].str.lower()\n",
    "overall_movies['clean_genre'] = overall_movies['clean_genre'].apply(lambda x: re.sub(' ', '', x))\n",
    "overall_movies['clean_genre'] = overall_movies['clean_genre'].apply(lambda x: re.sub('\\s+', ' ', x))\n",
    "overall_movies['clean_genre'] = overall_movies['clean_genre'].apply(lambda x: x.split('|'))\n",
    "overall_movies"
   ]
  },
  {
   "cell_type": "code",
   "execution_count": null,
   "id": "8e9d7827",
   "metadata": {},
   "outputs": [],
   "source": [
    "def get_similar_netflix_genre(genre):\n",
    "    temp = []\n",
    "    df = pd.DataFrame()\n",
    "    for i, x in enumerate(overall_movies['clean_genre']):\n",
    "        for y in x:\n",
    "            if(y in genre):\n",
    "                temp.append(i)\n",
    "                     \n",
    "    temp = set(temp)\n",
    "    temp = list(temp)\n",
    "    df = overall_movies.iloc[temp]\n",
    "    return df"
   ]
  },
  {
   "cell_type": "code",
   "execution_count": null,
   "id": "a63923a4",
   "metadata": {},
   "outputs": [],
   "source": [
    "df_netflix_genre = get_similar_netflix_genre([\"children\"])\n",
    "df_netflix_genre"
   ]
  },
  {
   "cell_type": "code",
   "execution_count": null,
   "id": "1bf33a08",
   "metadata": {},
   "outputs": [],
   "source": [
    "recc_netflix_ratings = df_netflix_genre.pivot_table(index=['userId'],columns=['title'],values='rating')\n",
    "recc_netflix_ratings.fillna(0, inplace=True)\n",
    "recc_netflix_ratings"
   ]
  },
  {
   "cell_type": "code",
   "execution_count": null,
   "id": "6c5fd0bc",
   "metadata": {},
   "outputs": [],
   "source": [
    "recc_netflix_columns = recc_netflix_ratings.sum(axis=0).sort_values(ascending=False)\n",
    "recc_netflix_columns = pd.DataFrame(recc_netflix_columns)\n",
    "recc_netflix_columns['sum'] = recc_netflix_ratings.sum(axis=0).sort_values(ascending=False)\n",
    "del recc_netflix_columns[recc_netflix_columns.columns[0]]\n",
    "recc_netflix_columns"
   ]
  },
  {
   "cell_type": "code",
   "execution_count": null,
   "id": "538b2159",
   "metadata": {},
   "outputs": [],
   "source": [
    "recc_netflix_normalization = df_netflix_genre['title'].value_counts()\n",
    "recc_netflix_normalization = pd.DataFrame(recc_netflix_normalization)\n",
    "recc_netflix_normalization.rename(columns={'title':'count'}, inplace=True)\n",
    "recc_netflix_normalization"
   ]
  },
  {
   "cell_type": "code",
   "execution_count": null,
   "id": "8aba2baf",
   "metadata": {},
   "outputs": [],
   "source": [
    "recc_netflix_merge = recc_netflix_columns.join(recc_netflix_normalization)\n",
    "recc_netflix_merge"
   ]
  },
  {
   "cell_type": "code",
   "execution_count": null,
   "id": "395a45f0",
   "metadata": {},
   "outputs": [],
   "source": [
    "recc_netflix_merge['normalize'] = (recc_netflix_merge['sum']/recc_netflix_merge['count'])\n",
    "recc_netflix_merge['count'].dtypes\n",
    "recc_netflix_merge = recc_netflix_merge[(recc_netflix_merge['count'] > 10)]\n",
    "recc_netflix_merge.sort_values(by='count', ascending=False).head(10)"
   ]
  },
  {
   "cell_type": "markdown",
   "id": "6da37b80",
   "metadata": {},
   "source": [
    "# USER-ITEM Collaborative Filtering Recommendation System"
   ]
  },
  {
   "cell_type": "code",
   "execution_count": null,
   "id": "3c962908",
   "metadata": {},
   "outputs": [],
   "source": [
    "ratings = pd.read_csv(\"userDatas.csv\")\n",
    "netflixData = pd.read_csv(\"netflix_titles.csv\")\n",
    "ratings = ratings.merge(netflixData)"
   ]
  },
  {
   "cell_type": "code",
   "execution_count": null,
   "id": "22d837bb",
   "metadata": {
    "scrolled": true
   },
   "outputs": [],
   "source": [
    "ratings['cast'] = ratings['cast'].fillna(' ')\n",
    "ratings['fav_cast'] = ratings['fav_cast'].fillna(' ')\n",
    "ratings['director'] = ratings['director'].fillna(' ')\n",
    "ratings['country'] = ratings['country'].fillna(' ')\n",
    "\n",
    "ratings.head(61)"
   ]
  },
  {
   "cell_type": "markdown",
   "id": "8ba498df",
   "metadata": {},
   "source": [
    "#### Create a table that shows user's rating of different netflix titles"
   ]
  },
  {
   "cell_type": "code",
   "execution_count": null,
   "id": "02cade02",
   "metadata": {
    "scrolled": true
   },
   "outputs": [],
   "source": [
    "userRatings = ratings.pivot_table(index=['user_id'],columns=['title'],values='user_rating')\n",
    "print(\"Before: \",userRatings.shape)\n",
    "userRatings.fillna(0, inplace=True)\n",
    "print(\"After: \",userRatings.shape)\n",
    "userRatings.head(10)"
   ]
  },
  {
   "cell_type": "markdown",
   "id": "bb374d1b",
   "metadata": {},
   "source": [
    "Movie Correlation data using pearson correlations"
   ]
  },
  {
   "cell_type": "code",
   "execution_count": null,
   "id": "3a0be680",
   "metadata": {
    "scrolled": true
   },
   "outputs": [],
   "source": [
    "corrMatrix = userRatings.corr(method='pearson')\n",
    "corrMatrix.head(10)"
   ]
  },
  {
   "cell_type": "code",
   "execution_count": null,
   "id": "f478684b",
   "metadata": {
    "scrolled": false
   },
   "outputs": [],
   "source": [
    "def standardize(row):\n",
    "    new_row = (row - row.mean())/(row.max()-row.min())\n",
    "    return new_row\n",
    "\n",
    "df_temp = userRatings\n",
    "df_std = df_temp.apply(standardize)\n",
    "\n",
    "user_similarity = cosine_similarity(df_std.T)\n",
    "user_similarity"
   ]
  },
  {
   "cell_type": "code",
   "execution_count": null,
   "id": "06f594d0",
   "metadata": {},
   "outputs": [],
   "source": [
    "from sklearn.metrics.pairwise import euclidean_distances\n",
    "euclidean_dist = euclidean_distances(df_std.T)\n",
    "euclidean_dist"
   ]
  },
  {
   "cell_type": "code",
   "execution_count": null,
   "id": "70b7150a",
   "metadata": {
    "scrolled": true
   },
   "outputs": [],
   "source": [
    "user_similarity_df = pd.DataFrame(user_similarity,index=userRatings.columns,columns=userRatings.columns)\n",
    "user_similarity_df"
   ]
  },
  {
   "cell_type": "code",
   "execution_count": null,
   "id": "41d7118b",
   "metadata": {},
   "outputs": [],
   "source": [
    "def get_similar_cosine(movie_name, user_rating):\n",
    "    similar_score = user_similarity_df[movie_name]\n",
    "    similar_score = similar_score.sort_values(ascending=False)\n",
    "    return similar_score"
   ]
  },
  {
   "cell_type": "code",
   "execution_count": null,
   "id": "cdf58c6a",
   "metadata": {
    "scrolled": true
   },
   "outputs": [],
   "source": [
    "new_user1 = [(\"ONE PIECE\",5),(\"Sword Art Online\",2),(\"Sex Education\",4),(\"Hunter X Hunter (2011)\",5),(\"Attack on Titan\",4)]\n",
    "similar_movies = pd.DataFrame()\n",
    "for movie,rating in new_user1:\n",
    "    similar_movies = similar_movies.append(get_similar_cosine(movie,rating),ignore_index = True)\n",
    "\n",
    "for (x,_) in new_user1:\n",
    "    del similar_movies[x]\n",
    "similar_movies.head()"
   ]
  },
  {
   "cell_type": "markdown",
   "id": "db4f2678",
   "metadata": {},
   "source": [
    "Top 10 netflix recommendations"
   ]
  },
  {
   "cell_type": "code",
   "execution_count": null,
   "id": "8c30f2c4",
   "metadata": {},
   "outputs": [],
   "source": [
    "similar_movies.sum().sort_values(ascending=False).head(10)"
   ]
  },
  {
   "cell_type": "code",
   "execution_count": null,
   "id": "46bd7f14",
   "metadata": {
    "scrolled": false
   },
   "outputs": [],
   "source": [
    "corrMatrix = userRatings.corr(method='pearson')\n",
    "corrMatrix.head(10)"
   ]
  },
  {
   "cell_type": "code",
   "execution_count": null,
   "id": "3f5114bf",
   "metadata": {},
   "outputs": [],
   "source": [
    "def get_similar_pearson(movie_name, user_rating):\n",
    "    similar_score = corrMatrix[movie_name]*(user_rating-2.5)\n",
    "    similar_score = similar_score.sort_values(ascending=False)\n",
    "    return similar_score"
   ]
  },
  {
   "cell_type": "code",
   "execution_count": null,
   "id": "e73e6c5f",
   "metadata": {},
   "outputs": [],
   "source": [
    "new_user1 = [(\"ONE PIECE\",5),(\"Sword Art Online\",2),(\"Sex Education\",4),(\"Hunter X Hunter (2011)\",5),(\"Attack on Titan\",4)]\n",
    "similar_movies = pd.DataFrame()\n",
    "for movie,rating in new_user1:\n",
    "    similar_movies = similar_movies.append(get_similar_pearson(movie,rating),ignore_index = True)\n",
    "\n",
    "for (x,_) in new_user1:\n",
    "    del similar_movies[x]\n",
    "similar_movies.head()"
   ]
  },
  {
   "cell_type": "code",
   "execution_count": null,
   "id": "2cbd6af0",
   "metadata": {},
   "outputs": [],
   "source": [
    "similar_movies.sum().sort_values(ascending=False).head(10)"
   ]
  },
  {
   "cell_type": "code",
   "execution_count": null,
   "id": "c75413ef",
   "metadata": {},
   "outputs": [],
   "source": [
    "# action_lover = [(\"The Amazing Spider-Man (2012)\",5),(\"Mission: Impossible III (2006)\",4),(\"Toy Story 3 (2010)\",2),(\"2 Fast 2 Furious (Fast and the Furious 2, The) (2003)\",4)]\n",
    "# similar_movies = pd.DataFrame()\n",
    "# for movie,rating in action_lover:\n",
    "#     similar_movies = similar_movies.append(get_similar_pearson(movie,rating),ignore_index = True)\n",
    "\n",
    "# similar_movies.head(10)\n",
    "# similar_movies.sum().sort_values(ascending=False).head(20)"
   ]
  },
  {
   "cell_type": "markdown",
   "id": "c1d514ac",
   "metadata": {},
   "source": [
    "#### Evalaution Metric : RMSE ( Root Mean Squared Error )"
   ]
  },
  {
   "cell_type": "code",
   "execution_count": null,
   "id": "da2c1fc1",
   "metadata": {},
   "outputs": [],
   "source": [
    "# Function to predict ratings\n",
    "def predict(ratings, similarity, type='user'):\n",
    "    if type == 'user':\n",
    "        mean_user_rating = ratings.mean(axis=1)\n",
    "        # Use np.newaxis so that mean_user_rating has same format as ratings\n",
    "        ratings_diff = (ratings - mean_user_rating[:, np.newaxis])\n",
    "        pred = mean_user_rating[:, np.newaxis] + similarity.dot(ratings_diff) / np.array([np.abs(similarity).sum(axis=1)]).T\n",
    "    elif type == 'item':\n",
    "        pred = ratings.dot(similarity) / np.array([np.abs(similarity).sum(axis=1)])\n",
    "    return pred"
   ]
  },
  {
   "cell_type": "code",
   "execution_count": null,
   "id": "4d571ca0",
   "metadata": {},
   "outputs": [],
   "source": [
    "from sklearn.metrics import mean_squared_error\n",
    "from math import sqrt\n",
    "\n",
    "# Function to calculate RMSE\n",
    "def rmse(pred, actual):\n",
    "    return sqrt(mean_squared_error(pred, actual))\n",
    "\n",
    "# Predict ratings on the training data with both similarity score\n",
    "user_prediction = predict(euclidean_dist, corrMatrix, type='user')\n",
    "item_prediction = predict(euclidean_dist, corrMatrix, type='item')\n",
    "# RMSE on the train data\n",
    "print('User-based CF RMSE: ' + str(rmse(user_prediction, corrMatrix)))\n",
    "print('Item-based CF RMSE: ' + str(rmse(item_prediction, corrMatrix)))"
   ]
  },
  {
   "cell_type": "code",
   "execution_count": null,
   "id": "3e2a45ff",
   "metadata": {},
   "outputs": [],
   "source": []
  }
 ],
 "metadata": {
  "kernelspec": {
   "display_name": "Python 3 (ipykernel)",
   "language": "python",
   "name": "python3"
  },
  "language_info": {
   "codemirror_mode": {
    "name": "ipython",
    "version": 3
   },
   "file_extension": ".py",
   "mimetype": "text/x-python",
   "name": "python",
   "nbconvert_exporter": "python",
   "pygments_lexer": "ipython3",
   "version": "3.9.7"
  },
  "vscode": {
   "interpreter": {
    "hash": "5e4bda67f9838be16d189b50da62d733f7c09545de52b735a31e173c43804dd6"
   }
  }
 },
 "nbformat": 4,
 "nbformat_minor": 5
}
