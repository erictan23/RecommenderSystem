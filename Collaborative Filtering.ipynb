{
 "cells": [
  {
   "cell_type": "code",
   "execution_count": 1,
   "id": "e2dc7fec",
   "metadata": {},
   "outputs": [],
   "source": [
    "import pandas as pd\n",
    "import scipy\n",
    "import numpy as np\n",
    "import re\n",
    "import nltk\n",
    "from scipy import sparse\n",
    "from sklearn.metrics.pairwise import cosine_similarity"
   ]
  },
  {
   "cell_type": "markdown",
   "id": "c5c9af18",
   "metadata": {},
   "source": []
  },
  {
   "cell_type": "code",
   "execution_count": null,
   "id": "3f3a7f78",
   "metadata": {
    "scrolled": true
   },
   "outputs": [],
   "source": [
    "ratings = pd.read_csv('ratings.csv')\n",
    "movies = pd.read_csv('movies.csv')\n",
    "#ratings = pd.merge(movies, ratings).drop(['date_added', 'release_year', 'rating', 'duration'], axis=1)\n",
    "ratings = pd.merge(movies, ratings)\n",
    "\n",
    "ratings.drop('timestamp', axis = 1, inplace=True)\n",
    "ratings.head()"
   ]
  },
  {
   "cell_type": "markdown",
   "id": "a698f321",
   "metadata": {},
   "source": []
  },
  {
   "cell_type": "code",
   "execution_count": null,
   "id": "7f0a42f7",
   "metadata": {},
   "outputs": [],
   "source": [
    "ratings['rating'] = ratings['rating'].fillna('0')\n",
    "ratings.head()"
   ]
  },
  {
   "cell_type": "code",
   "execution_count": null,
   "id": "b921cc87",
   "metadata": {},
   "outputs": [],
   "source": [
    "ratings['clean_genre'] = ratings['genres'].str.lower()\n",
    "ratings['clean_genre'] = ratings['clean_genre'].apply(lambda x: re.sub(' ', '', x))\n",
    "ratings['clean_genre'] = ratings['clean_genre'].apply(lambda x: re.sub('\\s+', ' ', x))\n",
    "ratings['clean_genre'] = ratings['clean_genre'].apply(lambda x: x.split('|'))\n",
    "#pd.set_option('display.max_rows', 100)\n",
    "#ratings['clean_genre']\n",
    "ratings"
   ]
  },
  {
   "cell_type": "code",
   "execution_count": null,
   "id": "3abbb114",
   "metadata": {},
   "outputs": [],
   "source": [
    "genre_ratings = ratings[['title', 'userId', 'rating', 'clean_genre']].copy()\n",
    "genre_ratings.head()"
   ]
  },
  {
   "cell_type": "code",
   "execution_count": null,
   "id": "36cf7ded",
   "metadata": {},
   "outputs": [],
   "source": [
    "def get_similar_genre(genre):\n",
    "    #similar_genre = genre_ratings['user_id', 'clean_genre']\n",
    "    temp = []\n",
    "    df = pd.DataFrame()\n",
    "    #print(genre_ratings['clean_genre'][0][0])\n",
    "    for i, x in enumerate(genre_ratings['clean_genre']):\n",
    "        for y in x:\n",
    "            if(y in genre):\n",
    "                temp.append(i)\n",
    "                     \n",
    "    #temp = genre_ratings.loc[genre_ratings['clean_genre'][0][0] == ([genre])]\n",
    "    #temp = genre_ratings.loc[genre_ratings['clean_genre'].str.contains(genre)]\n",
    "    temp = set(temp)\n",
    "    temp = list(temp)\n",
    "    df = genre_ratings.iloc[temp]\n",
    "    return df"
   ]
  },
  {
   "cell_type": "code",
   "execution_count": null,
   "id": "328e51df",
   "metadata": {},
   "outputs": [],
   "source": [
    "df_genre = get_similar_genre([\"children\"])\n",
    "df_genre\n",
    "#df_genre.drop_duplicates(inplace=True)\n",
    "#get_similar_genre([\"adventure\"])"
   ]
  },
  {
   "cell_type": "code",
   "execution_count": null,
   "id": "8ea39989",
   "metadata": {
    "scrolled": true
   },
   "outputs": [],
   "source": [
    "recc_ratings = df_genre.pivot_table(index=['userId'],columns=['title'],values='rating')\n",
    "recc_ratings.fillna(0, inplace=True)\n",
    "recc_ratings"
   ]
  },
  {
   "cell_type": "code",
   "execution_count": null,
   "id": "a2deecc8",
   "metadata": {},
   "outputs": [],
   "source": [
    "recc_columns = recc_ratings.sum(axis=0).sort_values(ascending=False)\n",
    "#recc_columns = recc_ratings.pivot_table(columns=[''])\n",
    "recc_columns = pd.DataFrame(recc_columns)\n",
    "recc_columns['sum'] = recc_ratings.sum(axis=0).sort_values(ascending=False)\n",
    "#recc_columns.(columns=recc_columns[0], axis=1, inplace=True)\n",
    "del recc_columns[recc_columns.columns[0]]\n",
    "recc_columns"
   ]
  },
  {
   "cell_type": "code",
   "execution_count": null,
   "id": "d5de2964",
   "metadata": {
    "scrolled": true
   },
   "outputs": [],
   "source": [
    "recc_normalization = df_genre['title'].value_counts()\n",
    "recc_normalization = pd.DataFrame(recc_normalization)\n",
    "recc_normalization.rename(columns={'title':'count'}, inplace=True)\n",
    "recc_normalization"
   ]
  },
  {
   "cell_type": "code",
   "execution_count": null,
   "id": "0e4899d9",
   "metadata": {},
   "outputs": [],
   "source": [
    "#recc_merge = pd.join(recc_columns, recc_normalization)\n",
    "recc_merge = recc_columns.join(recc_normalization)\n",
    "recc_merge"
   ]
  },
  {
   "cell_type": "markdown",
   "id": "259b30e8",
   "metadata": {},
   "source": [
    "## Normalizing + removing count values <= 100"
   ]
  },
  {
   "cell_type": "code",
   "execution_count": null,
   "id": "a19432d5",
   "metadata": {
    "scrolled": true
   },
   "outputs": [],
   "source": [
    "recc_merge['normalize'] = (recc_merge['sum']/recc_merge['count'])\n",
    "recc_merge['count'].dtypes\n",
    "#recc_merge = recc_merge.drop(recc_merge[recc_merge['count'] < 100].index, inplace=True)\n",
    "recc_merge = recc_merge[(recc_merge['count'] > 100)]\n",
    "recc_merge.sort_values(by='count', ascending=False).head(10)"
   ]
  },
  {
   "cell_type": "markdown",
   "id": "beb0d2e1",
   "metadata": {},
   "source": [
    "# NETFLIX DATA "
   ]
  },
  {
   "cell_type": "code",
   "execution_count": 2,
   "id": "79438a1c",
   "metadata": {
    "scrolled": false
   },
   "outputs": [
    {
     "data": {
      "text/html": [
       "<div>\n",
       "<style scoped>\n",
       "    .dataframe tbody tr th:only-of-type {\n",
       "        vertical-align: middle;\n",
       "    }\n",
       "\n",
       "    .dataframe tbody tr th {\n",
       "        vertical-align: top;\n",
       "    }\n",
       "\n",
       "    .dataframe thead th {\n",
       "        text-align: right;\n",
       "    }\n",
       "</style>\n",
       "<table border=\"1\" class=\"dataframe\">\n",
       "  <thead>\n",
       "    <tr style=\"text-align: right;\">\n",
       "      <th></th>\n",
       "      <th>movieId</th>\n",
       "      <th>title</th>\n",
       "      <th>genres</th>\n",
       "    </tr>\n",
       "  </thead>\n",
       "  <tbody>\n",
       "    <tr>\n",
       "      <th>0</th>\n",
       "      <td>1</td>\n",
       "      <td>Toy Story (1995)</td>\n",
       "      <td>Adventure|Animation|Children|Comedy|Fantasy</td>\n",
       "    </tr>\n",
       "    <tr>\n",
       "      <th>1</th>\n",
       "      <td>2</td>\n",
       "      <td>Jumanji (1995)</td>\n",
       "      <td>Adventure|Children|Fantasy</td>\n",
       "    </tr>\n",
       "    <tr>\n",
       "      <th>2</th>\n",
       "      <td>3</td>\n",
       "      <td>Grumpier Old Men (1995)</td>\n",
       "      <td>Comedy|Romance</td>\n",
       "    </tr>\n",
       "    <tr>\n",
       "      <th>3</th>\n",
       "      <td>4</td>\n",
       "      <td>Waiting to Exhale (1995)</td>\n",
       "      <td>Comedy|Drama|Romance</td>\n",
       "    </tr>\n",
       "    <tr>\n",
       "      <th>4</th>\n",
       "      <td>5</td>\n",
       "      <td>Father of the Bride Part II (1995)</td>\n",
       "      <td>Comedy</td>\n",
       "    </tr>\n",
       "    <tr>\n",
       "      <th>...</th>\n",
       "      <td>...</td>\n",
       "      <td>...</td>\n",
       "      <td>...</td>\n",
       "    </tr>\n",
       "    <tr>\n",
       "      <th>9737</th>\n",
       "      <td>193581</td>\n",
       "      <td>Black Butler: Book of the Atlantic (2017)</td>\n",
       "      <td>Action|Animation|Comedy|Fantasy</td>\n",
       "    </tr>\n",
       "    <tr>\n",
       "      <th>9738</th>\n",
       "      <td>193583</td>\n",
       "      <td>No Game No Life: Zero (2017)</td>\n",
       "      <td>Animation|Comedy|Fantasy</td>\n",
       "    </tr>\n",
       "    <tr>\n",
       "      <th>9739</th>\n",
       "      <td>193585</td>\n",
       "      <td>Flint (2017)</td>\n",
       "      <td>Drama</td>\n",
       "    </tr>\n",
       "    <tr>\n",
       "      <th>9740</th>\n",
       "      <td>193587</td>\n",
       "      <td>Bungo Stray Dogs: Dead Apple (2018)</td>\n",
       "      <td>Action|Animation</td>\n",
       "    </tr>\n",
       "    <tr>\n",
       "      <th>9741</th>\n",
       "      <td>193609</td>\n",
       "      <td>Andrew Dice Clay: Dice Rules (1991)</td>\n",
       "      <td>Comedy</td>\n",
       "    </tr>\n",
       "  </tbody>\n",
       "</table>\n",
       "<p>9742 rows × 3 columns</p>\n",
       "</div>"
      ],
      "text/plain": [
       "      movieId                                      title  \\\n",
       "0           1                           Toy Story (1995)   \n",
       "1           2                             Jumanji (1995)   \n",
       "2           3                    Grumpier Old Men (1995)   \n",
       "3           4                   Waiting to Exhale (1995)   \n",
       "4           5         Father of the Bride Part II (1995)   \n",
       "...       ...                                        ...   \n",
       "9737   193581  Black Butler: Book of the Atlantic (2017)   \n",
       "9738   193583               No Game No Life: Zero (2017)   \n",
       "9739   193585                               Flint (2017)   \n",
       "9740   193587        Bungo Stray Dogs: Dead Apple (2018)   \n",
       "9741   193609        Andrew Dice Clay: Dice Rules (1991)   \n",
       "\n",
       "                                           genres  \n",
       "0     Adventure|Animation|Children|Comedy|Fantasy  \n",
       "1                      Adventure|Children|Fantasy  \n",
       "2                                  Comedy|Romance  \n",
       "3                            Comedy|Drama|Romance  \n",
       "4                                          Comedy  \n",
       "...                                           ...  \n",
       "9737              Action|Animation|Comedy|Fantasy  \n",
       "9738                     Animation|Comedy|Fantasy  \n",
       "9739                                        Drama  \n",
       "9740                             Action|Animation  \n",
       "9741                                       Comedy  \n",
       "\n",
       "[9742 rows x 3 columns]"
      ]
     },
     "execution_count": 2,
     "metadata": {},
     "output_type": "execute_result"
    }
   ],
   "source": [
    "netflix_ratings = pd.read_csv('userDatas.csv')\n",
    "netflix_movies = pd.read_csv('netflix_titles.csv')\n",
    "movies = pd.read_csv('movies.csv')\n",
    "ratings = pd.read_csv('ratings.csv')\n",
    "\n",
    "#movies"
   ]
  },
  {
   "cell_type": "code",
   "execution_count": 3,
   "id": "fe98ab1b",
   "metadata": {},
   "outputs": [
    {
     "name": "stderr",
     "output_type": "stream",
     "text": [
      "/var/folders/p4/0gmnlm6d5kb64rkt5b8spdzm0000gn/T/ipykernel_60392/3976701913.py:1: FutureWarning: The default value of regex will change from True to False in a future version.\n",
      "  movies.title = movies.title.str.replace('\\d+', '')\n",
      "/var/folders/p4/0gmnlm6d5kb64rkt5b8spdzm0000gn/T/ipykernel_60392/3976701913.py:2: FutureWarning: The default value of regex will change from True to False in a future version. In addition, single character regular expressions will *not* be treated as literal strings when regex=True.\n",
      "  movies.title = movies.title.str.replace('(', '')\n",
      "/var/folders/p4/0gmnlm6d5kb64rkt5b8spdzm0000gn/T/ipykernel_60392/3976701913.py:3: FutureWarning: The default value of regex will change from True to False in a future version. In addition, single character regular expressions will *not* be treated as literal strings when regex=True.\n",
      "  movies.title = movies.title.str.replace(')', '')\n"
     ]
    }
   ],
   "source": [
    "movies.title = movies.title.str.replace('\\d+', '')\n",
    "movies.title = movies.title.str.replace('(', '')\n",
    "movies.title = movies.title.str.replace(')', '')\n",
    "#movies['title'] = movies['title'].apply(lambda x: re.sub(' ', '', x))\n",
    "movies['title'] = movies['title'].str.lower()\n",
    "movies['title'] = movies['title'].str.strip()\n",
    "#movies"
   ]
  },
  {
   "cell_type": "code",
   "execution_count": 4,
   "id": "0e955d9e",
   "metadata": {
    "scrolled": true
   },
   "outputs": [],
   "source": [
    "netflix_movies['title'] = netflix_movies['title'].str.lower()\n",
    "#netflix_movies['title'] = netflix_movies['title'].apply(lambda x: re.sub(' ', '', x))\n",
    "#netflix_movies"
   ]
  },
  {
   "cell_type": "code",
   "execution_count": 5,
   "id": "49143f22",
   "metadata": {},
   "outputs": [],
   "source": [
    "overall_movies = movies.merge(netflix_movies, on='title', how='left')\n",
    "#overall_movies = movies.join(netflix_movies)\n",
    "#overall_movies = pd.concat([movies, netflix_movies], axis=1, join='inner')\n",
    "#overall_movies"
   ]
  },
  {
   "cell_type": "code",
   "execution_count": 6,
   "id": "062331f4",
   "metadata": {
    "scrolled": true
   },
   "outputs": [],
   "source": [
    "overall_movies = overall_movies.dropna()"
   ]
  },
  {
   "cell_type": "code",
   "execution_count": 7,
   "id": "1032272b",
   "metadata": {},
   "outputs": [],
   "source": [
    "overall_movies = overall_movies[['movieId', 'title', 'genres']]\n",
    "overall_movies = overall_movies.merge(ratings)\n",
    "overall_movies = overall_movies.drop('timestamp', axis='columns')\n",
    "#overall_movies"
   ]
  },
  {
   "cell_type": "code",
   "execution_count": 8,
   "id": "79e1fd01",
   "metadata": {
    "scrolled": true
   },
   "outputs": [],
   "source": [
    "overall_movies['clean_genre'] = overall_movies['genres'].str.lower()\n",
    "overall_movies['clean_genre'] = overall_movies['clean_genre'].apply(lambda x: re.sub(' ', '', x))\n",
    "overall_movies['clean_genre'] = overall_movies['clean_genre'].apply(lambda x: re.sub('\\s+', ' ', x))\n",
    "overall_movies['clean_genre'] = overall_movies['clean_genre'].apply(lambda x: x.split('|'))\n",
    "#overall_movies"
   ]
  },
  {
   "cell_type": "code",
   "execution_count": 9,
   "id": "8e9d7827",
   "metadata": {},
   "outputs": [],
   "source": [
    "def get_similar_netflix_genre(genre):\n",
    "    #similar_genre = genre_ratings['user_id', 'clean_genre']\n",
    "    temp = []\n",
    "    df = pd.DataFrame()\n",
    "    #print(genre_ratings['clean_genre'][0][0])\n",
    "    for i, x in enumerate(overall_movies['clean_genre']):\n",
    "        for y in x:\n",
    "            if(y in genre):\n",
    "                temp.append(i)\n",
    "                     \n",
    "    #temp = genre_ratings.loc[genre_ratings['clean_genre'][0][0] == ([genre])]\n",
    "    #temp = genre_ratings.loc[genre_ratings['clean_genre'].str.contains(genre)]\n",
    "    temp = set(temp)\n",
    "    temp = list(temp)\n",
    "    df = overall_movies.iloc[temp]\n",
    "    return df"
   ]
  },
  {
   "cell_type": "code",
   "execution_count": 10,
   "id": "a63923a4",
   "metadata": {},
   "outputs": [],
   "source": [
    "df_netflix_genre = get_similar_netflix_genre([\"children\"])\n",
    "#df_netflix_genre"
   ]
  },
  {
   "cell_type": "code",
   "execution_count": 11,
   "id": "1bf33a08",
   "metadata": {},
   "outputs": [],
   "source": [
    "recc_netflix_ratings = df_netflix_genre.pivot_table(index=['userId'],columns=['title'],values='rating')\n",
    "recc_netflix_ratings.fillna(0, inplace=True)\n",
    "#recc_netflix_ratings"
   ]
  },
  {
   "cell_type": "code",
   "execution_count": 12,
   "id": "6c5fd0bc",
   "metadata": {},
   "outputs": [],
   "source": [
    "recc_netflix_columns = recc_netflix_ratings.sum(axis=0).sort_values(ascending=False)\n",
    "#recc_columns = recc_ratings.pivot_table(columns=[''])\n",
    "recc_netflix_columns = pd.DataFrame(recc_netflix_columns)\n",
    "recc_netflix_columns['sum'] = recc_netflix_ratings.sum(axis=0).sort_values(ascending=False)\n",
    "#recc_columns.(columns=recc_columns[0], axis=1, inplace=True)\n",
    "del recc_netflix_columns[recc_netflix_columns.columns[0]]\n",
    "#recc_netflix_columns"
   ]
  },
  {
   "cell_type": "code",
   "execution_count": 13,
   "id": "538b2159",
   "metadata": {},
   "outputs": [],
   "source": [
    "recc_netflix_normalization = df_netflix_genre['title'].value_counts()\n",
    "recc_netflix_normalization = pd.DataFrame(recc_netflix_normalization)\n",
    "recc_netflix_normalization.rename(columns={'title':'count'}, inplace=True)\n",
    "#recc_netflix_normalization"
   ]
  },
  {
   "cell_type": "code",
   "execution_count": 14,
   "id": "8aba2baf",
   "metadata": {},
   "outputs": [
    {
     "data": {
      "text/html": [
       "<div>\n",
       "<style scoped>\n",
       "    .dataframe tbody tr th:only-of-type {\n",
       "        vertical-align: middle;\n",
       "    }\n",
       "\n",
       "    .dataframe tbody tr th {\n",
       "        vertical-align: top;\n",
       "    }\n",
       "\n",
       "    .dataframe thead th {\n",
       "        text-align: right;\n",
       "    }\n",
       "</style>\n",
       "<table border=\"1\" class=\"dataframe\">\n",
       "  <thead>\n",
       "    <tr style=\"text-align: right;\">\n",
       "      <th></th>\n",
       "      <th>sum</th>\n",
       "      <th>count</th>\n",
       "    </tr>\n",
       "    <tr>\n",
       "      <th>title</th>\n",
       "      <th></th>\n",
       "      <th></th>\n",
       "    </tr>\n",
       "  </thead>\n",
       "  <tbody>\n",
       "    <tr>\n",
       "      <th>willy wonka &amp; the chocolate factory</th>\n",
       "      <td>461.0</td>\n",
       "      <td>119</td>\n",
       "    </tr>\n",
       "    <tr>\n",
       "      <th>kung fu panda</th>\n",
       "      <td>191.0</td>\n",
       "      <td>71</td>\n",
       "    </tr>\n",
       "    <tr>\n",
       "      <th>charlie and the chocolate factory</th>\n",
       "      <td>183.0</td>\n",
       "      <td>61</td>\n",
       "    </tr>\n",
       "    <tr>\n",
       "      <th>free willy</th>\n",
       "      <td>88.5</td>\n",
       "      <td>37</td>\n",
       "    </tr>\n",
       "    <tr>\n",
       "      <th>tarzan</th>\n",
       "      <td>83.0</td>\n",
       "      <td>24</td>\n",
       "    </tr>\n",
       "    <tr>\n",
       "      <th>spy kids</th>\n",
       "      <td>82.5</td>\n",
       "      <td>28</td>\n",
       "    </tr>\n",
       "    <tr>\n",
       "      <th>charlotte's web</th>\n",
       "      <td>81.0</td>\n",
       "      <td>24</td>\n",
       "    </tr>\n",
       "    <tr>\n",
       "      <th>teenage mutant ninja turtles</th>\n",
       "      <td>75.0</td>\n",
       "      <td>25</td>\n",
       "    </tr>\n",
       "    <tr>\n",
       "      <th>all dogs go to heaven</th>\n",
       "      <td>70.0</td>\n",
       "      <td>26</td>\n",
       "    </tr>\n",
       "    <tr>\n",
       "      <th>hugo</th>\n",
       "      <td>67.5</td>\n",
       "      <td>18</td>\n",
       "    </tr>\n",
       "    <tr>\n",
       "      <th>cloudy with a chance of meatballs</th>\n",
       "      <td>62.0</td>\n",
       "      <td>19</td>\n",
       "    </tr>\n",
       "    <tr>\n",
       "      <th>rango</th>\n",
       "      <td>61.5</td>\n",
       "      <td>17</td>\n",
       "    </tr>\n",
       "    <tr>\n",
       "      <th>bolt</th>\n",
       "      <td>61.0</td>\n",
       "      <td>18</td>\n",
       "    </tr>\n",
       "    <tr>\n",
       "      <th>stuart little</th>\n",
       "      <td>56.0</td>\n",
       "      <td>24</td>\n",
       "    </tr>\n",
       "    <tr>\n",
       "      <th>small soldiers</th>\n",
       "      <td>51.0</td>\n",
       "      <td>18</td>\n",
       "    </tr>\n",
       "    <tr>\n",
       "      <th>watership down</th>\n",
       "      <td>40.5</td>\n",
       "      <td>10</td>\n",
       "    </tr>\n",
       "    <tr>\n",
       "      <th>chitty chitty bang bang</th>\n",
       "      <td>38.0</td>\n",
       "      <td>11</td>\n",
       "    </tr>\n",
       "    <tr>\n",
       "      <th>bedtime stories</th>\n",
       "      <td>37.0</td>\n",
       "      <td>11</td>\n",
       "    </tr>\n",
       "    <tr>\n",
       "      <th>teenage mutant ninja turtles ii: the secret of the ooze</th>\n",
       "      <td>35.0</td>\n",
       "      <td>13</td>\n",
       "    </tr>\n",
       "    <tr>\n",
       "      <th>now and then</th>\n",
       "      <td>30.0</td>\n",
       "      <td>9</td>\n",
       "    </tr>\n",
       "    <tr>\n",
       "      <th>monster house</th>\n",
       "      <td>28.0</td>\n",
       "      <td>9</td>\n",
       "    </tr>\n",
       "    <tr>\n",
       "      <th>home</th>\n",
       "      <td>26.0</td>\n",
       "      <td>8</td>\n",
       "    </tr>\n",
       "    <tr>\n",
       "      <th>balto</th>\n",
       "      <td>25.0</td>\n",
       "      <td>8</td>\n",
       "    </tr>\n",
       "    <tr>\n",
       "      <th>surf's up</th>\n",
       "      <td>24.5</td>\n",
       "      <td>7</td>\n",
       "    </tr>\n",
       "    <tr>\n",
       "      <th>solo: a star wars story</th>\n",
       "      <td>19.5</td>\n",
       "      <td>5</td>\n",
       "    </tr>\n",
       "    <tr>\n",
       "      <th>beethoven</th>\n",
       "      <td>19.5</td>\n",
       "      <td>11</td>\n",
       "    </tr>\n",
       "    <tr>\n",
       "      <th>for the birds</th>\n",
       "      <td>19.5</td>\n",
       "      <td>5</td>\n",
       "    </tr>\n",
       "    <tr>\n",
       "      <th>benji</th>\n",
       "      <td>19.0</td>\n",
       "      <td>5</td>\n",
       "    </tr>\n",
       "    <tr>\n",
       "      <th>jimmy neutron: boy genius</th>\n",
       "      <td>16.0</td>\n",
       "      <td>5</td>\n",
       "    </tr>\n",
       "    <tr>\n",
       "      <th>chicken little</th>\n",
       "      <td>16.0</td>\n",
       "      <td>7</td>\n",
       "    </tr>\n",
       "    <tr>\n",
       "      <th>big fat liar</th>\n",
       "      <td>15.0</td>\n",
       "      <td>5</td>\n",
       "    </tr>\n",
       "    <tr>\n",
       "      <th>daddy day care</th>\n",
       "      <td>14.0</td>\n",
       "      <td>6</td>\n",
       "    </tr>\n",
       "    <tr>\n",
       "      <th>zathura</th>\n",
       "      <td>13.5</td>\n",
       "      <td>4</td>\n",
       "    </tr>\n",
       "    <tr>\n",
       "      <th>house arrest</th>\n",
       "      <td>13.5</td>\n",
       "      <td>4</td>\n",
       "    </tr>\n",
       "    <tr>\n",
       "      <th>rugrats in paris: the movie</th>\n",
       "      <td>9.0</td>\n",
       "      <td>4</td>\n",
       "    </tr>\n",
       "    <tr>\n",
       "      <th>it takes two</th>\n",
       "      <td>8.5</td>\n",
       "      <td>4</td>\n",
       "    </tr>\n",
       "    <tr>\n",
       "      <th>race to witch mountain</th>\n",
       "      <td>7.0</td>\n",
       "      <td>2</td>\n",
       "    </tr>\n",
       "    <tr>\n",
       "      <th>open season</th>\n",
       "      <td>6.0</td>\n",
       "      <td>2</td>\n",
       "    </tr>\n",
       "    <tr>\n",
       "      <th>yours, mine and ours</th>\n",
       "      <td>5.5</td>\n",
       "      <td>2</td>\n",
       "    </tr>\n",
       "    <tr>\n",
       "      <th>hop</th>\n",
       "      <td>5.5</td>\n",
       "      <td>2</td>\n",
       "    </tr>\n",
       "    <tr>\n",
       "      <th>christmas with the kranks</th>\n",
       "      <td>5.0</td>\n",
       "      <td>2</td>\n",
       "    </tr>\n",
       "    <tr>\n",
       "      <th>seventh son</th>\n",
       "      <td>4.5</td>\n",
       "      <td>2</td>\n",
       "    </tr>\n",
       "    <tr>\n",
       "      <th>good burger</th>\n",
       "      <td>4.0</td>\n",
       "      <td>2</td>\n",
       "    </tr>\n",
       "    <tr>\n",
       "      <th>for the love of benji</th>\n",
       "      <td>4.0</td>\n",
       "      <td>1</td>\n",
       "    </tr>\n",
       "    <tr>\n",
       "      <th>g-force</th>\n",
       "      <td>3.5</td>\n",
       "      <td>1</td>\n",
       "    </tr>\n",
       "    <tr>\n",
       "      <th>a wrinkle in time</th>\n",
       "      <td>3.0</td>\n",
       "      <td>1</td>\n",
       "    </tr>\n",
       "    <tr>\n",
       "      <th>turbo</th>\n",
       "      <td>2.5</td>\n",
       "      <td>1</td>\n",
       "    </tr>\n",
       "    <tr>\n",
       "      <th>the bfg</th>\n",
       "      <td>2.5</td>\n",
       "      <td>1</td>\n",
       "    </tr>\n",
       "    <tr>\n",
       "      <th>bebe's kids</th>\n",
       "      <td>1.0</td>\n",
       "      <td>1</td>\n",
       "    </tr>\n",
       "    <tr>\n",
       "      <th>arthur christmas</th>\n",
       "      <td>0.5</td>\n",
       "      <td>1</td>\n",
       "    </tr>\n",
       "  </tbody>\n",
       "</table>\n",
       "</div>"
      ],
      "text/plain": [
       "                                                      sum  count\n",
       "title                                                           \n",
       "willy wonka & the chocolate factory                 461.0    119\n",
       "kung fu panda                                       191.0     71\n",
       "charlie and the chocolate factory                   183.0     61\n",
       "free willy                                           88.5     37\n",
       "tarzan                                               83.0     24\n",
       "spy kids                                             82.5     28\n",
       "charlotte's web                                      81.0     24\n",
       "teenage mutant ninja turtles                         75.0     25\n",
       "all dogs go to heaven                                70.0     26\n",
       "hugo                                                 67.5     18\n",
       "cloudy with a chance of meatballs                    62.0     19\n",
       "rango                                                61.5     17\n",
       "bolt                                                 61.0     18\n",
       "stuart little                                        56.0     24\n",
       "small soldiers                                       51.0     18\n",
       "watership down                                       40.5     10\n",
       "chitty chitty bang bang                              38.0     11\n",
       "bedtime stories                                      37.0     11\n",
       "teenage mutant ninja turtles ii: the secret of ...   35.0     13\n",
       "now and then                                         30.0      9\n",
       "monster house                                        28.0      9\n",
       "home                                                 26.0      8\n",
       "balto                                                25.0      8\n",
       "surf's up                                            24.5      7\n",
       "solo: a star wars story                              19.5      5\n",
       "beethoven                                            19.5     11\n",
       "for the birds                                        19.5      5\n",
       "benji                                                19.0      5\n",
       "jimmy neutron: boy genius                            16.0      5\n",
       "chicken little                                       16.0      7\n",
       "big fat liar                                         15.0      5\n",
       "daddy day care                                       14.0      6\n",
       "zathura                                              13.5      4\n",
       "house arrest                                         13.5      4\n",
       "rugrats in paris: the movie                           9.0      4\n",
       "it takes two                                          8.5      4\n",
       "race to witch mountain                                7.0      2\n",
       "open season                                           6.0      2\n",
       "yours, mine and ours                                  5.5      2\n",
       "hop                                                   5.5      2\n",
       "christmas with the kranks                             5.0      2\n",
       "seventh son                                           4.5      2\n",
       "good burger                                           4.0      2\n",
       "for the love of benji                                 4.0      1\n",
       "g-force                                               3.5      1\n",
       "a wrinkle in time                                     3.0      1\n",
       "turbo                                                 2.5      1\n",
       "the bfg                                               2.5      1\n",
       "bebe's kids                                           1.0      1\n",
       "arthur christmas                                      0.5      1"
      ]
     },
     "execution_count": 14,
     "metadata": {},
     "output_type": "execute_result"
    }
   ],
   "source": [
    "recc_netflix_merge = recc_netflix_columns.join(recc_netflix_normalization)\n",
    "recc_netflix_merge"
   ]
  },
  {
   "cell_type": "code",
   "execution_count": 15,
   "id": "395a45f0",
   "metadata": {},
   "outputs": [
    {
     "data": {
      "text/html": [
       "<div>\n",
       "<style scoped>\n",
       "    .dataframe tbody tr th:only-of-type {\n",
       "        vertical-align: middle;\n",
       "    }\n",
       "\n",
       "    .dataframe tbody tr th {\n",
       "        vertical-align: top;\n",
       "    }\n",
       "\n",
       "    .dataframe thead th {\n",
       "        text-align: right;\n",
       "    }\n",
       "</style>\n",
       "<table border=\"1\" class=\"dataframe\">\n",
       "  <thead>\n",
       "    <tr style=\"text-align: right;\">\n",
       "      <th></th>\n",
       "      <th>sum</th>\n",
       "      <th>count</th>\n",
       "      <th>normalize</th>\n",
       "    </tr>\n",
       "    <tr>\n",
       "      <th>title</th>\n",
       "      <th></th>\n",
       "      <th></th>\n",
       "      <th></th>\n",
       "    </tr>\n",
       "  </thead>\n",
       "  <tbody>\n",
       "    <tr>\n",
       "      <th>willy wonka &amp; the chocolate factory</th>\n",
       "      <td>461.0</td>\n",
       "      <td>119</td>\n",
       "      <td>3.873950</td>\n",
       "    </tr>\n",
       "    <tr>\n",
       "      <th>kung fu panda</th>\n",
       "      <td>191.0</td>\n",
       "      <td>71</td>\n",
       "      <td>2.690141</td>\n",
       "    </tr>\n",
       "    <tr>\n",
       "      <th>charlie and the chocolate factory</th>\n",
       "      <td>183.0</td>\n",
       "      <td>61</td>\n",
       "      <td>3.000000</td>\n",
       "    </tr>\n",
       "    <tr>\n",
       "      <th>free willy</th>\n",
       "      <td>88.5</td>\n",
       "      <td>37</td>\n",
       "      <td>2.391892</td>\n",
       "    </tr>\n",
       "    <tr>\n",
       "      <th>spy kids</th>\n",
       "      <td>82.5</td>\n",
       "      <td>28</td>\n",
       "      <td>2.946429</td>\n",
       "    </tr>\n",
       "    <tr>\n",
       "      <th>all dogs go to heaven</th>\n",
       "      <td>70.0</td>\n",
       "      <td>26</td>\n",
       "      <td>2.692308</td>\n",
       "    </tr>\n",
       "    <tr>\n",
       "      <th>teenage mutant ninja turtles</th>\n",
       "      <td>75.0</td>\n",
       "      <td>25</td>\n",
       "      <td>3.000000</td>\n",
       "    </tr>\n",
       "    <tr>\n",
       "      <th>stuart little</th>\n",
       "      <td>56.0</td>\n",
       "      <td>24</td>\n",
       "      <td>2.333333</td>\n",
       "    </tr>\n",
       "    <tr>\n",
       "      <th>tarzan</th>\n",
       "      <td>83.0</td>\n",
       "      <td>24</td>\n",
       "      <td>3.458333</td>\n",
       "    </tr>\n",
       "    <tr>\n",
       "      <th>charlotte's web</th>\n",
       "      <td>81.0</td>\n",
       "      <td>24</td>\n",
       "      <td>3.375000</td>\n",
       "    </tr>\n",
       "  </tbody>\n",
       "</table>\n",
       "</div>"
      ],
      "text/plain": [
       "                                       sum  count  normalize\n",
       "title                                                       \n",
       "willy wonka & the chocolate factory  461.0    119   3.873950\n",
       "kung fu panda                        191.0     71   2.690141\n",
       "charlie and the chocolate factory    183.0     61   3.000000\n",
       "free willy                            88.5     37   2.391892\n",
       "spy kids                              82.5     28   2.946429\n",
       "all dogs go to heaven                 70.0     26   2.692308\n",
       "teenage mutant ninja turtles          75.0     25   3.000000\n",
       "stuart little                         56.0     24   2.333333\n",
       "tarzan                                83.0     24   3.458333\n",
       "charlotte's web                       81.0     24   3.375000"
      ]
     },
     "execution_count": 15,
     "metadata": {},
     "output_type": "execute_result"
    }
   ],
   "source": [
    "recc_netflix_merge['normalize'] = (recc_netflix_merge['sum']/recc_netflix_merge['count'])\n",
    "recc_netflix_merge['count'].dtypes\n",
    "#recc_merge = recc_merge.drop(recc_merge[recc_merge['count'] < 100].index, inplace=True)\n",
    "recc_netflix_merge = recc_netflix_merge[(recc_netflix_merge['count'] > 10)]\n",
    "recc_netflix_merge.sort_values(by='count', ascending=False).head(10)"
   ]
  },
  {
   "cell_type": "code",
   "execution_count": null,
   "id": "fc2ca8a3",
   "metadata": {},
   "outputs": [],
   "source": []
  },
  {
   "cell_type": "code",
   "execution_count": null,
   "id": "22d837bb",
   "metadata": {
    "scrolled": true
   },
   "outputs": [],
   "source": [
    "ratings['cast'] = ratings['cast'].fillna(' ')\n",
    "ratings['fav_cast'] = ratings['fav_cast'].fillna(' ')\n",
    "ratings['director'] = ratings['director'].fillna(' ')\n",
    "ratings['country'] = ratings['country'].fillna(' ')\n",
    "\n",
    "ratings.head(61)"
   ]
  },
  {
   "cell_type": "code",
   "execution_count": null,
   "id": "07d2e6d4",
   "metadata": {},
   "outputs": [],
   "source": []
  },
  {
   "cell_type": "markdown",
   "id": "8ba498df",
   "metadata": {},
   "source": []
  },
  {
   "cell_type": "code",
   "execution_count": null,
   "id": "02cade02",
   "metadata": {
    "scrolled": true
   },
   "outputs": [],
   "source": [
    "userRatings = ratings.pivot_table(index=['user_id'],columns=['title'],values='user_rating')\n",
    "print(\"Before: \",userRatings.shape)\n",
    "#userRatings = userRatings.dropna(how='all').fillna(0)\n",
    "userRatings.fillna(0, inplace=True)\n",
    "print(\"After: \",userRatings.shape)\n",
    "userRatings.head(10)"
   ]
  },
  {
   "cell_type": "code",
   "execution_count": null,
   "id": "3a0be680",
   "metadata": {
    "scrolled": true
   },
   "outputs": [],
   "source": [
    "corrMatrix = userRatings.corr(method='pearson')\n",
    "corrMatrix.head(10)"
   ]
  },
  {
   "cell_type": "code",
   "execution_count": null,
   "id": "f478684b",
   "metadata": {
    "scrolled": false
   },
   "outputs": [],
   "source": [
    "def standardize(row):\n",
    "    new_row = (row - row.mean())/(row.max()-row.min())\n",
    "    return new_row\n",
    "\n",
    "df_temp = userRatings\n",
    "df_std = df_temp.apply(standardize)\n",
    "\n",
    "user_similarity = cosine_similarity(df_std.T)\n",
    "user_similarity"
   ]
  },
  {
   "cell_type": "code",
   "execution_count": null,
   "id": "06f594d0",
   "metadata": {},
   "outputs": [],
   "source": [
    "from sklearn.metrics.pairwise import euclidean_distances\n",
    "euclidean_dist = euclidean_distances(df_std.T)\n",
    "euclidean_dist"
   ]
  },
  {
   "cell_type": "code",
   "execution_count": null,
   "id": "70b7150a",
   "metadata": {
    "scrolled": true
   },
   "outputs": [],
   "source": [
    "user_similarity_df = pd.DataFrame(user_similarity,index=userRatings.columns,columns=userRatings.columns)\n",
    "user_similarity_df"
   ]
  },
  {
   "cell_type": "code",
   "execution_count": null,
   "id": "41d7118b",
   "metadata": {},
   "outputs": [],
   "source": [
    "def get_similar_cosine(movie_name, user_rating):\n",
    "    similar_score = user_similarity_df[movie_name]\n",
    "    similar_score = similar_score.sort_values(ascending=False)\n",
    "    #print(type(similar_ratings))\n",
    "    return similar_score"
   ]
  },
  {
   "cell_type": "code",
   "execution_count": null,
   "id": "cdf58c6a",
   "metadata": {
    "scrolled": true
   },
   "outputs": [],
   "source": [
    "new_user1 = [(\"ONE PIECE\",5),(\"Sword Art Online\",2),(\"Sex Education\",4),(\"Hunter X Hunter (2011)\",5),(\"Attack on Titan\",4)]\n",
    "similar_movies = pd.DataFrame()\n",
    "for movie,rating in new_user1:\n",
    "    similar_movies = similar_movies.append(get_similar_cosine(movie,rating),ignore_index = True)\n",
    "\n",
    "for (x,_) in new_user1:\n",
    "    del similar_movies[x]\n",
    "    #print(\"drop \"+ x)\n",
    "similar_movies.head()"
   ]
  },
  {
   "cell_type": "code",
   "execution_count": null,
   "id": "8c30f2c4",
   "metadata": {},
   "outputs": [],
   "source": [
    "similar_movies.sum().sort_values(ascending=False).head(10)"
   ]
  },
  {
   "cell_type": "code",
   "execution_count": null,
   "id": "46bd7f14",
   "metadata": {
    "scrolled": false
   },
   "outputs": [],
   "source": [
    "corrMatrix = userRatings.corr(method='pearson')\n",
    "corrMatrix.head(10)"
   ]
  },
  {
   "cell_type": "code",
   "execution_count": null,
   "id": "3f5114bf",
   "metadata": {},
   "outputs": [],
   "source": [
    "def get_similar_pearson(movie_name, user_rating):\n",
    "    similar_score = corrMatrix[movie_name]*(user_rating-2.5)\n",
    "    similar_score = similar_score.sort_values(ascending=False)\n",
    "    #print(type(similar_ratings))\n",
    "    return similar_score"
   ]
  },
  {
   "cell_type": "code",
   "execution_count": null,
   "id": "e73e6c5f",
   "metadata": {},
   "outputs": [],
   "source": [
    "new_user1 = [(\"ONE PIECE\",5),(\"Sword Art Online\",2),(\"Sex Education\",4),(\"Hunter X Hunter (2011)\",5),(\"Attack on Titan\",4)]\n",
    "similar_movies = pd.DataFrame()\n",
    "for movie,rating in new_user1:\n",
    "    similar_movies = similar_movies.append(get_similar_pearson(movie,rating),ignore_index = True)\n",
    "\n",
    "for (x,_) in new_user1:\n",
    "    del similar_movies[x]\n",
    "    #print(\"drop \"+ x)\n",
    "similar_movies.head()"
   ]
  },
  {
   "cell_type": "code",
   "execution_count": null,
   "id": "2cbd6af0",
   "metadata": {},
   "outputs": [],
   "source": [
    "similar_movies.sum().sort_values(ascending=False).head(10)"
   ]
  },
  {
   "cell_type": "code",
   "execution_count": null,
   "id": "c75413ef",
   "metadata": {},
   "outputs": [],
   "source": [
    "action_lover = [(\"Amazing Spider-Man, The (2012)\",5),(\"Mission: Impossible III (2006)\",4),(\"Toy Story 3 (2010)\",2),(\"2 Fast 2 Furious (Fast and the Furious 2, The) (2003)\",4)]\n",
    "similar_movies = pd.DataFrame()\n",
    "for movie,rating in action_lover:\n",
    "    similar_movies = similar_movies.append(get_similar_pearson(movie,rating),ignore_index = True)\n",
    "\n",
    "similar_movies.head(10)\n",
    "similar_movies.sum().sort_values(ascending=False).head(20)"
   ]
  },
  {
   "cell_type": "markdown",
   "id": "c1d514ac",
   "metadata": {},
   "source": [
    "#### Evalaution Metric : RMSE ( Root Mean Squared Error )"
   ]
  },
  {
   "cell_type": "code",
   "execution_count": null,
   "id": "da2c1fc1",
   "metadata": {},
   "outputs": [],
   "source": [
    "# Function to predict ratings\n",
    "def predict(ratings, similarity, type='user'):\n",
    "    if type == 'user':\n",
    "        mean_user_rating = ratings.mean(axis=1)\n",
    "        # Use np.newaxis so that mean_user_rating has same format as ratings\n",
    "        ratings_diff = (ratings - mean_user_rating[:, np.newaxis])\n",
    "        pred = mean_user_rating[:, np.newaxis] + similarity.dot(ratings_diff) / np.array([np.abs(similarity).sum(axis=1)]).T\n",
    "    elif type == 'item':\n",
    "        pred = ratings.dot(similarity) / np.array([np.abs(similarity).sum(axis=1)])\n",
    "    return pred"
   ]
  },
  {
   "cell_type": "code",
   "execution_count": null,
   "id": "4d571ca0",
   "metadata": {},
   "outputs": [],
   "source": [
    "from sklearn.metrics import mean_squared_error\n",
    "from math import sqrt\n",
    "\n",
    "# Function to calculate RMSE\n",
    "def rmse(pred, actual):\n",
    "    return sqrt(mean_squared_error(pred, actual))\n",
    "\n",
    "# Predict ratings on the training data with both similarity score\n",
    "user_prediction = predict(euclidean_dist, corrMatrix, type='user')\n",
    "item_prediction = predict(euclidean_dist, corrMatrix, type='item')\n",
    "# RMSE on the train data\n",
    "print('User-based CF RMSE: ' + str(rmse(user_prediction, corrMatrix)))\n",
    "print('Item-based CF RMSE: ' + str(rmse(item_prediction, corrMatrix)))"
   ]
  },
  {
   "cell_type": "code",
   "execution_count": null,
   "id": "3e2a45ff",
   "metadata": {},
   "outputs": [],
   "source": []
  }
 ],
 "metadata": {
  "kernelspec": {
   "display_name": "Python 3 (ipykernel)",
   "language": "python",
   "name": "python3"
  },
  "language_info": {
   "codemirror_mode": {
    "name": "ipython",
    "version": 3
   },
   "file_extension": ".py",
   "mimetype": "text/x-python",
   "name": "python",
   "nbconvert_exporter": "python",
   "pygments_lexer": "ipython3",
   "version": "3.9.7"
  },
  "vscode": {
   "interpreter": {
    "hash": "95a00916da76e8310c8ab4fd4f7b1dd7d7961e7facef91059bcc1d41f028b5a7"
   }
  }
 },
 "nbformat": 4,
 "nbformat_minor": 5
}
