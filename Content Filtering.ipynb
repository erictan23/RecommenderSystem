{
 "cells": [
  {
   "cell_type": "code",
   "execution_count": 137,
   "id": "34d96413",
   "metadata": {},
   "outputs": [],
   "source": [
    "import pandas as pd\n",
    "import numpy as np\n",
    "import re\n",
    "import nltk\n",
    "import seaborn as sns\n",
    "import matplotlib.pyplot as plt\n",
    "pd.set_option('display.max_columns', None)"
   ]
  },
  {
   "cell_type": "markdown",
   "id": "ace0480d",
   "metadata": {},
   "source": [
    "## First Dataset: Netflix Titles"
   ]
  },
  {
   "cell_type": "code",
   "execution_count": 138,
   "id": "56b48438",
   "metadata": {},
   "outputs": [
    {
     "data": {
      "text/html": [
       "<div>\n",
       "<style scoped>\n",
       "    .dataframe tbody tr th:only-of-type {\n",
       "        vertical-align: middle;\n",
       "    }\n",
       "\n",
       "    .dataframe tbody tr th {\n",
       "        vertical-align: top;\n",
       "    }\n",
       "\n",
       "    .dataframe thead th {\n",
       "        text-align: right;\n",
       "    }\n",
       "</style>\n",
       "<table border=\"1\" class=\"dataframe\">\n",
       "  <thead>\n",
       "    <tr style=\"text-align: right;\">\n",
       "      <th></th>\n",
       "      <th>show_id</th>\n",
       "      <th>type</th>\n",
       "      <th>title</th>\n",
       "      <th>director</th>\n",
       "      <th>cast</th>\n",
       "      <th>country</th>\n",
       "      <th>date_added</th>\n",
       "      <th>release_year</th>\n",
       "      <th>rating</th>\n",
       "      <th>duration</th>\n",
       "      <th>listed_in</th>\n",
       "      <th>description</th>\n",
       "    </tr>\n",
       "  </thead>\n",
       "  <tbody>\n",
       "    <tr>\n",
       "      <th>0</th>\n",
       "      <td>s1</td>\n",
       "      <td>Movie</td>\n",
       "      <td>Dick Johnson Is Dead</td>\n",
       "      <td>Kirsten Johnson</td>\n",
       "      <td>NaN</td>\n",
       "      <td>United States</td>\n",
       "      <td>September 25, 2021</td>\n",
       "      <td>2020</td>\n",
       "      <td>PG-13</td>\n",
       "      <td>90 min</td>\n",
       "      <td>Documentaries</td>\n",
       "      <td>As her father nears the end of his life, filmm...</td>\n",
       "    </tr>\n",
       "    <tr>\n",
       "      <th>1</th>\n",
       "      <td>s2</td>\n",
       "      <td>TV Show</td>\n",
       "      <td>Blood &amp; Water</td>\n",
       "      <td>NaN</td>\n",
       "      <td>Ama Qamata, Khosi Ngema, Gail Mabalane, Thaban...</td>\n",
       "      <td>South Africa</td>\n",
       "      <td>September 24, 2021</td>\n",
       "      <td>2021</td>\n",
       "      <td>TV-MA</td>\n",
       "      <td>2 Seasons</td>\n",
       "      <td>International TV Shows, TV Dramas, TV Mysteries</td>\n",
       "      <td>After crossing paths at a party, a Cape Town t...</td>\n",
       "    </tr>\n",
       "    <tr>\n",
       "      <th>2</th>\n",
       "      <td>s3</td>\n",
       "      <td>TV Show</td>\n",
       "      <td>Ganglands</td>\n",
       "      <td>Julien Leclercq</td>\n",
       "      <td>Sami Bouajila, Tracy Gotoas, Samuel Jouy, Nabi...</td>\n",
       "      <td>NaN</td>\n",
       "      <td>September 24, 2021</td>\n",
       "      <td>2021</td>\n",
       "      <td>TV-MA</td>\n",
       "      <td>1 Season</td>\n",
       "      <td>Crime TV Shows, International TV Shows, TV Act...</td>\n",
       "      <td>To protect his family from a powerful drug lor...</td>\n",
       "    </tr>\n",
       "    <tr>\n",
       "      <th>3</th>\n",
       "      <td>s4</td>\n",
       "      <td>TV Show</td>\n",
       "      <td>Jailbirds New Orleans</td>\n",
       "      <td>NaN</td>\n",
       "      <td>NaN</td>\n",
       "      <td>NaN</td>\n",
       "      <td>September 24, 2021</td>\n",
       "      <td>2021</td>\n",
       "      <td>TV-MA</td>\n",
       "      <td>1 Season</td>\n",
       "      <td>Docuseries, Reality TV</td>\n",
       "      <td>Feuds, flirtations and toilet talk go down amo...</td>\n",
       "    </tr>\n",
       "    <tr>\n",
       "      <th>4</th>\n",
       "      <td>s5</td>\n",
       "      <td>TV Show</td>\n",
       "      <td>Kota Factory</td>\n",
       "      <td>NaN</td>\n",
       "      <td>Mayur More, Jitendra Kumar, Ranjan Raj, Alam K...</td>\n",
       "      <td>India</td>\n",
       "      <td>September 24, 2021</td>\n",
       "      <td>2021</td>\n",
       "      <td>TV-MA</td>\n",
       "      <td>2 Seasons</td>\n",
       "      <td>International TV Shows, Romantic TV Shows, TV ...</td>\n",
       "      <td>In a city of coaching centers known to train I...</td>\n",
       "    </tr>\n",
       "  </tbody>\n",
       "</table>\n",
       "</div>"
      ],
      "text/plain": [
       "  show_id     type                  title         director  \\\n",
       "0      s1    Movie   Dick Johnson Is Dead  Kirsten Johnson   \n",
       "1      s2  TV Show          Blood & Water              NaN   \n",
       "2      s3  TV Show              Ganglands  Julien Leclercq   \n",
       "3      s4  TV Show  Jailbirds New Orleans              NaN   \n",
       "4      s5  TV Show           Kota Factory              NaN   \n",
       "\n",
       "                                                cast        country  \\\n",
       "0                                                NaN  United States   \n",
       "1  Ama Qamata, Khosi Ngema, Gail Mabalane, Thaban...   South Africa   \n",
       "2  Sami Bouajila, Tracy Gotoas, Samuel Jouy, Nabi...            NaN   \n",
       "3                                                NaN            NaN   \n",
       "4  Mayur More, Jitendra Kumar, Ranjan Raj, Alam K...          India   \n",
       "\n",
       "           date_added  release_year rating   duration  \\\n",
       "0  September 25, 2021          2020  PG-13     90 min   \n",
       "1  September 24, 2021          2021  TV-MA  2 Seasons   \n",
       "2  September 24, 2021          2021  TV-MA   1 Season   \n",
       "3  September 24, 2021          2021  TV-MA   1 Season   \n",
       "4  September 24, 2021          2021  TV-MA  2 Seasons   \n",
       "\n",
       "                                           listed_in  \\\n",
       "0                                      Documentaries   \n",
       "1    International TV Shows, TV Dramas, TV Mysteries   \n",
       "2  Crime TV Shows, International TV Shows, TV Act...   \n",
       "3                             Docuseries, Reality TV   \n",
       "4  International TV Shows, Romantic TV Shows, TV ...   \n",
       "\n",
       "                                         description  \n",
       "0  As her father nears the end of his life, filmm...  \n",
       "1  After crossing paths at a party, a Cape Town t...  \n",
       "2  To protect his family from a powerful drug lor...  \n",
       "3  Feuds, flirtations and toilet talk go down amo...  \n",
       "4  In a city of coaching centers known to train I...  "
      ]
     },
     "execution_count": 138,
     "metadata": {},
     "output_type": "execute_result"
    }
   ],
   "source": [
    "df = pd.read_csv(\"netflix_titles.csv\")\n",
    "#df = pd.read_csv(r\"C:\\Users\\Seph Chen\\OneDrive - Nanyang Technological University\\Desktop\\data/netflix_titles.csv\")\n",
    "df.head()"
   ]
  },
  {
   "cell_type": "markdown",
   "id": "144f6d5d",
   "metadata": {},
   "source": [
    "## Dataset Study\n",
    "\n",
    "The Netflix Titles dataset consists of 8807 number of series titles and there are 12 columns for analysis."
   ]
  },
  {
   "cell_type": "code",
   "execution_count": 139,
   "id": "83d408fc",
   "metadata": {},
   "outputs": [
    {
     "name": "stdout",
     "output_type": "stream",
     "text": [
      "<class 'pandas.core.frame.DataFrame'>\n",
      "RangeIndex: 8807 entries, 0 to 8806\n",
      "Data columns (total 12 columns):\n",
      " #   Column        Non-Null Count  Dtype \n",
      "---  ------        --------------  ----- \n",
      " 0   show_id       8807 non-null   object\n",
      " 1   type          8807 non-null   object\n",
      " 2   title         8807 non-null   object\n",
      " 3   director      6173 non-null   object\n",
      " 4   cast          7982 non-null   object\n",
      " 5   country       7976 non-null   object\n",
      " 6   date_added    8797 non-null   object\n",
      " 7   release_year  8807 non-null   int64 \n",
      " 8   rating        8803 non-null   object\n",
      " 9   duration      8804 non-null   object\n",
      " 10  listed_in     8807 non-null   object\n",
      " 11  description   8807 non-null   object\n",
      "dtypes: int64(1), object(11)\n",
      "memory usage: 825.8+ KB\n"
     ]
    }
   ],
   "source": [
    "df.info()"
   ]
  },
  {
   "cell_type": "markdown",
   "id": "af3a299c",
   "metadata": {},
   "source": [
    "## Analysis of Netflix Show Types"
   ]
  },
  {
   "cell_type": "code",
   "execution_count": 140,
   "id": "dc86fc9c",
   "metadata": {},
   "outputs": [
    {
     "data": {
      "image/png": "[encoded data removed]",
      "text/plain": [
       "<Figure size 640x480 with 1 Axes>"
      ]
     },
     "metadata": {},
     "output_type": "display_data"
    }
   ],
   "source": [
    "sns.set(style=\"whitegrid\")\n",
    "axis = sns.countplot(x=\"type\", data = df , palette= \"Blues\" )"
   ]
  },
  {
   "cell_type": "markdown",
   "id": "d58b208b",
   "metadata": {},
   "source": [
    "The following above shows that there are more Movies than TV Shows. Therefore, the recommendation system may be skewed towards recommending Movies to user "
   ]
  },
  {
   "cell_type": "markdown",
   "id": "882d37bf",
   "metadata": {},
   "source": [
    "## Displaying the netflix title listed_in"
   ]
  },
  {
   "cell_type": "code",
   "execution_count": 141,
   "id": "17627fb1",
   "metadata": {},
   "outputs": [
    {
     "data": {
      "image/png": "[encoded data removed]",
      "text/plain": [
       "<Figure size 640x480 with 1 Axes>"
      ]
     },
     "metadata": {},
     "output_type": "display_data"
    }
   ],
   "source": [
    "from wordcloud import WordCloud, STOPWORDS\n",
    "text = \" \".join(listedin for listedin in df[\"listed_in\"])\n",
    "wordcloud = WordCloud().generate(text)\n",
    "\n",
    "plt.imshow(wordcloud, interpolation = 'bilinear')\n",
    "plt.axis(\"off\")\n",
    "plt.show()"
   ]
  },
  {
   "cell_type": "markdown",
   "id": "7da52e5c",
   "metadata": {},
   "source": [
    "From the wordcloud, TV Shows, International movies and Dramas International are the Top 3 listed_in"
   ]
  },
  {
   "cell_type": "markdown",
   "id": "49193894",
   "metadata": {},
   "source": [
    "## Analysis of the Netflix's series' Release Year"
   ]
  },
  {
   "cell_type": "code",
   "execution_count": 142,
   "id": "0414e764",
   "metadata": {},
   "outputs": [
    {
     "data": {
      "image/png": "[encoded data removed]",
      "text/plain": [
       "<Figure size 1000x800 with 1 Axes>"
      ]
     },
     "metadata": {},
     "output_type": "display_data"
    }
   ],
   "source": [
    "plt.figure(figsize = (10,8))\n",
    "sns.set(style = \"whitegrid\")\n",
    "axis = sns.countplot( y = \"release_year\", data = df, palette = \"icefire\", order = df[\"release_year\"].value_counts().index[0:20] )"
   ]
  },
  {
   "cell_type": "markdown",
   "id": "be315967",
   "metadata": {},
   "source": [
    "It is observed that 2018 has the most number of netflix titles being released which is followed by 2017, 2019 and 2020. <br>\n",
    "Some possible reason that this was observed could be due to the Covid-19 Pandemic in 2019 which result in the decrease. "
   ]
  },
  {
   "cell_type": "markdown",
   "id": "f4bb84e4",
   "metadata": {},
   "source": [
    "## Preprocessing for Netflix Data"
   ]
  },
  {
   "cell_type": "code",
   "execution_count": 143,
   "id": "2b2aa495",
   "metadata": {},
   "outputs": [
    {
     "data": {
      "text/plain": [
       "0       as her father nears the end of his life filmma...\n",
       "1       after crossing paths at a party a cape town te...\n",
       "2       to protect his family from a powerful drug lor...\n",
       "3       feuds flirtations and toilet talk go down amon...\n",
       "4       in a city of coaching centers known to train i...\n",
       "                              ...                        \n",
       "8802    a political cartoonist a crime reporter and a ...\n",
       "8803    while living alone in a spooky town a young gi...\n",
       "8804    looking to survive in a world taken over by zo...\n",
       "8805    dragged from civilian life a former superhero ...\n",
       "8806    a scrappy but poor boy worms his way into a ty...\n",
       "Name: clean_plot, Length: 8807, dtype: object"
      ]
     },
     "execution_count": 143,
     "metadata": {},
     "output_type": "execute_result"
    }
   ],
   "source": [
    "# convert lowercase and remove numbers, punctuations, spaces, etc.,\n",
    "df['clean_plot'] = df['description'].str.lower()\n",
    "df['clean_plot'] = df['clean_plot'].apply(lambda x: re.sub('[^a-zA-Z]', ' ', x))\n",
    "df['clean_plot'] = df['clean_plot'].apply(lambda x: re.sub('\\s+', ' ', x))\n",
    "df['clean_plot']\n"
   ]
  },
  {
   "cell_type": "markdown",
   "id": "a0d15dc9",
   "metadata": {},
   "source": [
    "#### Importing Natural Language Processing Tool Kit (NLTK) for processing of sentence by splitting them into words"
   ]
  },
  {
   "cell_type": "code",
   "execution_count": 144,
   "id": "cfd29e7c",
   "metadata": {},
   "outputs": [
    {
     "name": "stderr",
     "output_type": "stream",
     "text": [
      "[nltk_data] Downloading package punkt to\n",
      "[nltk_data]     C:\\Users\\eric2\\AppData\\Roaming\\nltk_data...\n",
      "[nltk_data]   Package punkt is already up-to-date!\n"
     ]
    },
    {
     "data": {
      "text/plain": [
       "0       [as, her, father, nears, the, end, of, his, li...\n",
       "1       [after, crossing, paths, at, a, party, a, cape...\n",
       "2       [to, protect, his, family, from, a, powerful, ...\n",
       "3       [feuds, flirtations, and, toilet, talk, go, do...\n",
       "4       [in, a, city, of, coaching, centers, known, to...\n",
       "                              ...                        \n",
       "8802    [a, political, cartoonist, a, crime, reporter,...\n",
       "8803    [while, living, alone, in, a, spooky, town, a,...\n",
       "8804    [looking, to, survive, in, a, world, taken, ov...\n",
       "8805    [dragged, from, civilian, life, a, former, sup...\n",
       "8806    [a, scrappy, but, poor, boy, worms, his, way, ...\n",
       "Name: clean_plot, Length: 8807, dtype: object"
      ]
     },
     "execution_count": 144,
     "metadata": {},
     "output_type": "execute_result"
    }
   ],
   "source": [
    "import nltk\n",
    "nltk.download('punkt')\n",
    "\n",
    "# tokenize the sentence\n",
    "df['clean_plot'] = df['clean_plot'].apply(lambda x: nltk.word_tokenize(x))\n",
    "df['clean_plot']"
   ]
  },
  {
   "cell_type": "markdown",
   "id": "8e64dac6",
   "metadata": {},
   "source": [
    "#### To remove stopwords which are words that do not add value to the sentence"
   ]
  },
  {
   "cell_type": "code",
   "execution_count": 145,
   "id": "aab4d305",
   "metadata": {},
   "outputs": [
    {
     "name": "stderr",
     "output_type": "stream",
     "text": [
      "[nltk_data] Downloading package stopwords to\n",
      "[nltk_data]     C:\\Users\\eric2\\AppData\\Roaming\\nltk_data...\n",
      "[nltk_data]   Package stopwords is already up-to-date!\n"
     ]
    }
   ],
   "source": [
    "import nltk\n",
    "nltk.download('stopwords')\n",
    "\n",
    "# remove stopwords\n",
    "stop_words = nltk.corpus.stopwords.words('english')\n",
    "plot = []\n",
    "for sentence in df['clean_plot']:\n",
    "    temp = []\n",
    "    for word in sentence:\n",
    "        if word not in stop_words and len(word) >= 3:\n",
    "            temp.append(word)\n",
    "    plot.append(temp)\n"
   ]
  },
  {
   "cell_type": "code",
   "execution_count": 146,
   "id": "69298750",
   "metadata": {},
   "outputs": [
    {
     "data": {
      "text/plain": [
       "0    [father, nears, end, life, filmmaker, kirsten,...\n",
       "1    [crossing, paths, party, cape, town, teen, set...\n",
       "2    [protect, family, powerful, drug, lord, skille...\n",
       "3    [feuds, flirtations, toilet, talk, among, inca...\n",
       "4    [city, coaching, centers, known, train, india,...\n",
       "Name: clean_plot, dtype: object"
      ]
     },
     "execution_count": 146,
     "metadata": {},
     "output_type": "execute_result"
    }
   ],
   "source": [
    "df['clean_plot'] = plot\n",
    "df['clean_plot'].head()"
   ]
  },
  {
   "cell_type": "code",
   "execution_count": 147,
   "id": "f8c42c3e",
   "metadata": {},
   "outputs": [
    {
     "data": {
      "text/html": [
       "<div>\n",
       "<style scoped>\n",
       "    .dataframe tbody tr th:only-of-type {\n",
       "        vertical-align: middle;\n",
       "    }\n",
       "\n",
       "    .dataframe tbody tr th {\n",
       "        vertical-align: top;\n",
       "    }\n",
       "\n",
       "    .dataframe thead th {\n",
       "        text-align: right;\n",
       "    }\n",
       "</style>\n",
       "<table border=\"1\" class=\"dataframe\">\n",
       "  <thead>\n",
       "    <tr style=\"text-align: right;\">\n",
       "      <th></th>\n",
       "      <th>show_id</th>\n",
       "      <th>type</th>\n",
       "      <th>title</th>\n",
       "      <th>director</th>\n",
       "      <th>cast</th>\n",
       "      <th>country</th>\n",
       "      <th>date_added</th>\n",
       "      <th>release_year</th>\n",
       "      <th>rating</th>\n",
       "      <th>duration</th>\n",
       "      <th>listed_in</th>\n",
       "      <th>description</th>\n",
       "      <th>clean_plot</th>\n",
       "    </tr>\n",
       "  </thead>\n",
       "  <tbody>\n",
       "    <tr>\n",
       "      <th>0</th>\n",
       "      <td>s1</td>\n",
       "      <td>Movie</td>\n",
       "      <td>Dick Johnson Is Dead</td>\n",
       "      <td>Kirsten Johnson</td>\n",
       "      <td>NaN</td>\n",
       "      <td>United States</td>\n",
       "      <td>September 25, 2021</td>\n",
       "      <td>2020</td>\n",
       "      <td>PG-13</td>\n",
       "      <td>90 min</td>\n",
       "      <td>Documentaries</td>\n",
       "      <td>As her father nears the end of his life, filmm...</td>\n",
       "      <td>[father, nears, end, life, filmmaker, kirsten,...</td>\n",
       "    </tr>\n",
       "    <tr>\n",
       "      <th>1</th>\n",
       "      <td>s2</td>\n",
       "      <td>TV Show</td>\n",
       "      <td>Blood &amp; Water</td>\n",
       "      <td>NaN</td>\n",
       "      <td>Ama Qamata, Khosi Ngema, Gail Mabalane, Thaban...</td>\n",
       "      <td>South Africa</td>\n",
       "      <td>September 24, 2021</td>\n",
       "      <td>2021</td>\n",
       "      <td>TV-MA</td>\n",
       "      <td>2 Seasons</td>\n",
       "      <td>International TV Shows, TV Dramas, TV Mysteries</td>\n",
       "      <td>After crossing paths at a party, a Cape Town t...</td>\n",
       "      <td>[crossing, paths, party, cape, town, teen, set...</td>\n",
       "    </tr>\n",
       "    <tr>\n",
       "      <th>2</th>\n",
       "      <td>s3</td>\n",
       "      <td>TV Show</td>\n",
       "      <td>Ganglands</td>\n",
       "      <td>Julien Leclercq</td>\n",
       "      <td>Sami Bouajila, Tracy Gotoas, Samuel Jouy, Nabi...</td>\n",
       "      <td>NaN</td>\n",
       "      <td>September 24, 2021</td>\n",
       "      <td>2021</td>\n",
       "      <td>TV-MA</td>\n",
       "      <td>1 Season</td>\n",
       "      <td>Crime TV Shows, International TV Shows, TV Act...</td>\n",
       "      <td>To protect his family from a powerful drug lor...</td>\n",
       "      <td>[protect, family, powerful, drug, lord, skille...</td>\n",
       "    </tr>\n",
       "    <tr>\n",
       "      <th>3</th>\n",
       "      <td>s4</td>\n",
       "      <td>TV Show</td>\n",
       "      <td>Jailbirds New Orleans</td>\n",
       "      <td>NaN</td>\n",
       "      <td>NaN</td>\n",
       "      <td>NaN</td>\n",
       "      <td>September 24, 2021</td>\n",
       "      <td>2021</td>\n",
       "      <td>TV-MA</td>\n",
       "      <td>1 Season</td>\n",
       "      <td>Docuseries, Reality TV</td>\n",
       "      <td>Feuds, flirtations and toilet talk go down amo...</td>\n",
       "      <td>[feuds, flirtations, toilet, talk, among, inca...</td>\n",
       "    </tr>\n",
       "    <tr>\n",
       "      <th>4</th>\n",
       "      <td>s5</td>\n",
       "      <td>TV Show</td>\n",
       "      <td>Kota Factory</td>\n",
       "      <td>NaN</td>\n",
       "      <td>Mayur More, Jitendra Kumar, Ranjan Raj, Alam K...</td>\n",
       "      <td>India</td>\n",
       "      <td>September 24, 2021</td>\n",
       "      <td>2021</td>\n",
       "      <td>TV-MA</td>\n",
       "      <td>2 Seasons</td>\n",
       "      <td>International TV Shows, Romantic TV Shows, TV ...</td>\n",
       "      <td>In a city of coaching centers known to train I...</td>\n",
       "      <td>[city, coaching, centers, known, train, india,...</td>\n",
       "    </tr>\n",
       "  </tbody>\n",
       "</table>\n",
       "</div>"
      ],
      "text/plain": [
       "  show_id     type                  title         director  \\\n",
       "0      s1    Movie   Dick Johnson Is Dead  Kirsten Johnson   \n",
       "1      s2  TV Show          Blood & Water              NaN   \n",
       "2      s3  TV Show              Ganglands  Julien Leclercq   \n",
       "3      s4  TV Show  Jailbirds New Orleans              NaN   \n",
       "4      s5  TV Show           Kota Factory              NaN   \n",
       "\n",
       "                                                cast        country  \\\n",
       "0                                                NaN  United States   \n",
       "1  Ama Qamata, Khosi Ngema, Gail Mabalane, Thaban...   South Africa   \n",
       "2  Sami Bouajila, Tracy Gotoas, Samuel Jouy, Nabi...            NaN   \n",
       "3                                                NaN            NaN   \n",
       "4  Mayur More, Jitendra Kumar, Ranjan Raj, Alam K...          India   \n",
       "\n",
       "           date_added  release_year rating   duration  \\\n",
       "0  September 25, 2021          2020  PG-13     90 min   \n",
       "1  September 24, 2021          2021  TV-MA  2 Seasons   \n",
       "2  September 24, 2021          2021  TV-MA   1 Season   \n",
       "3  September 24, 2021          2021  TV-MA   1 Season   \n",
       "4  September 24, 2021          2021  TV-MA  2 Seasons   \n",
       "\n",
       "                                           listed_in  \\\n",
       "0                                      Documentaries   \n",
       "1    International TV Shows, TV Dramas, TV Mysteries   \n",
       "2  Crime TV Shows, International TV Shows, TV Act...   \n",
       "3                             Docuseries, Reality TV   \n",
       "4  International TV Shows, Romantic TV Shows, TV ...   \n",
       "\n",
       "                                         description  \\\n",
       "0  As her father nears the end of his life, filmm...   \n",
       "1  After crossing paths at a party, a Cape Town t...   \n",
       "2  To protect his family from a powerful drug lor...   \n",
       "3  Feuds, flirtations and toilet talk go down amo...   \n",
       "4  In a city of coaching centers known to train I...   \n",
       "\n",
       "                                          clean_plot  \n",
       "0  [father, nears, end, life, filmmaker, kirsten,...  \n",
       "1  [crossing, paths, party, cape, town, teen, set...  \n",
       "2  [protect, family, powerful, drug, lord, skille...  \n",
       "3  [feuds, flirtations, toilet, talk, among, inca...  \n",
       "4  [city, coaching, centers, known, train, india,...  "
      ]
     },
     "execution_count": 147,
     "metadata": {},
     "output_type": "execute_result"
    }
   ],
   "source": [
    "df.head()"
   ]
  },
  {
   "cell_type": "code",
   "execution_count": 148,
   "id": "51c6708b",
   "metadata": {},
   "outputs": [
    {
     "data": {
      "text/html": [
       "<div>\n",
       "<style scoped>\n",
       "    .dataframe tbody tr th:only-of-type {\n",
       "        vertical-align: middle;\n",
       "    }\n",
       "\n",
       "    .dataframe tbody tr th {\n",
       "        vertical-align: top;\n",
       "    }\n",
       "\n",
       "    .dataframe thead th {\n",
       "        text-align: right;\n",
       "    }\n",
       "</style>\n",
       "<table border=\"1\" class=\"dataframe\">\n",
       "  <thead>\n",
       "    <tr style=\"text-align: right;\">\n",
       "      <th></th>\n",
       "      <th>show_id</th>\n",
       "      <th>type</th>\n",
       "      <th>title</th>\n",
       "      <th>director</th>\n",
       "      <th>cast</th>\n",
       "      <th>country</th>\n",
       "      <th>date_added</th>\n",
       "      <th>release_year</th>\n",
       "      <th>rating</th>\n",
       "      <th>duration</th>\n",
       "      <th>listed_in</th>\n",
       "      <th>description</th>\n",
       "      <th>clean_plot</th>\n",
       "    </tr>\n",
       "  </thead>\n",
       "  <tbody>\n",
       "    <tr>\n",
       "      <th>0</th>\n",
       "      <td>s1</td>\n",
       "      <td>Movie</td>\n",
       "      <td>Dick Johnson Is Dead</td>\n",
       "      <td>Kirsten Johnson</td>\n",
       "      <td></td>\n",
       "      <td>United States</td>\n",
       "      <td>September 25, 2021</td>\n",
       "      <td>2020</td>\n",
       "      <td>PG-13</td>\n",
       "      <td>90 min</td>\n",
       "      <td>Documentaries</td>\n",
       "      <td>As her father nears the end of his life, filmm...</td>\n",
       "      <td>[father, nears, end, life, filmmaker, kirsten,...</td>\n",
       "    </tr>\n",
       "    <tr>\n",
       "      <th>1</th>\n",
       "      <td>s2</td>\n",
       "      <td>TV Show</td>\n",
       "      <td>Blood &amp; Water</td>\n",
       "      <td></td>\n",
       "      <td>Ama Qamata, Khosi Ngema, Gail Mabalane, Thaban...</td>\n",
       "      <td>South Africa</td>\n",
       "      <td>September 24, 2021</td>\n",
       "      <td>2021</td>\n",
       "      <td>TV-MA</td>\n",
       "      <td>2 Seasons</td>\n",
       "      <td>International TV Shows, TV Dramas, TV Mysteries</td>\n",
       "      <td>After crossing paths at a party, a Cape Town t...</td>\n",
       "      <td>[crossing, paths, party, cape, town, teen, set...</td>\n",
       "    </tr>\n",
       "    <tr>\n",
       "      <th>2</th>\n",
       "      <td>s3</td>\n",
       "      <td>TV Show</td>\n",
       "      <td>Ganglands</td>\n",
       "      <td>Julien Leclercq</td>\n",
       "      <td>Sami Bouajila, Tracy Gotoas, Samuel Jouy, Nabi...</td>\n",
       "      <td>NaN</td>\n",
       "      <td>September 24, 2021</td>\n",
       "      <td>2021</td>\n",
       "      <td>TV-MA</td>\n",
       "      <td>1 Season</td>\n",
       "      <td>Crime TV Shows, International TV Shows, TV Act...</td>\n",
       "      <td>To protect his family from a powerful drug lor...</td>\n",
       "      <td>[protect, family, powerful, drug, lord, skille...</td>\n",
       "    </tr>\n",
       "    <tr>\n",
       "      <th>3</th>\n",
       "      <td>s4</td>\n",
       "      <td>TV Show</td>\n",
       "      <td>Jailbirds New Orleans</td>\n",
       "      <td></td>\n",
       "      <td></td>\n",
       "      <td>NaN</td>\n",
       "      <td>September 24, 2021</td>\n",
       "      <td>2021</td>\n",
       "      <td>TV-MA</td>\n",
       "      <td>1 Season</td>\n",
       "      <td>Docuseries, Reality TV</td>\n",
       "      <td>Feuds, flirtations and toilet talk go down amo...</td>\n",
       "      <td>[feuds, flirtations, toilet, talk, among, inca...</td>\n",
       "    </tr>\n",
       "    <tr>\n",
       "      <th>4</th>\n",
       "      <td>s5</td>\n",
       "      <td>TV Show</td>\n",
       "      <td>Kota Factory</td>\n",
       "      <td></td>\n",
       "      <td>Mayur More, Jitendra Kumar, Ranjan Raj, Alam K...</td>\n",
       "      <td>India</td>\n",
       "      <td>September 24, 2021</td>\n",
       "      <td>2021</td>\n",
       "      <td>TV-MA</td>\n",
       "      <td>2 Seasons</td>\n",
       "      <td>International TV Shows, Romantic TV Shows, TV ...</td>\n",
       "      <td>In a city of coaching centers known to train I...</td>\n",
       "      <td>[city, coaching, centers, known, train, india,...</td>\n",
       "    </tr>\n",
       "  </tbody>\n",
       "</table>\n",
       "</div>"
      ],
      "text/plain": [
       "  show_id     type                  title         director  \\\n",
       "0      s1    Movie   Dick Johnson Is Dead  Kirsten Johnson   \n",
       "1      s2  TV Show          Blood & Water                    \n",
       "2      s3  TV Show              Ganglands  Julien Leclercq   \n",
       "3      s4  TV Show  Jailbirds New Orleans                    \n",
       "4      s5  TV Show           Kota Factory                    \n",
       "\n",
       "                                                cast        country  \\\n",
       "0                                                     United States   \n",
       "1  Ama Qamata, Khosi Ngema, Gail Mabalane, Thaban...   South Africa   \n",
       "2  Sami Bouajila, Tracy Gotoas, Samuel Jouy, Nabi...            NaN   \n",
       "3                                                               NaN   \n",
       "4  Mayur More, Jitendra Kumar, Ranjan Raj, Alam K...          India   \n",
       "\n",
       "           date_added  release_year rating   duration  \\\n",
       "0  September 25, 2021          2020  PG-13     90 min   \n",
       "1  September 24, 2021          2021  TV-MA  2 Seasons   \n",
       "2  September 24, 2021          2021  TV-MA   1 Season   \n",
       "3  September 24, 2021          2021  TV-MA   1 Season   \n",
       "4  September 24, 2021          2021  TV-MA  2 Seasons   \n",
       "\n",
       "                                           listed_in  \\\n",
       "0                                      Documentaries   \n",
       "1    International TV Shows, TV Dramas, TV Mysteries   \n",
       "2  Crime TV Shows, International TV Shows, TV Act...   \n",
       "3                             Docuseries, Reality TV   \n",
       "4  International TV Shows, Romantic TV Shows, TV ...   \n",
       "\n",
       "                                         description  \\\n",
       "0  As her father nears the end of his life, filmm...   \n",
       "1  After crossing paths at a party, a Cape Town t...   \n",
       "2  To protect his family from a powerful drug lor...   \n",
       "3  Feuds, flirtations and toilet talk go down amo...   \n",
       "4  In a city of coaching centers known to train I...   \n",
       "\n",
       "                                          clean_plot  \n",
       "0  [father, nears, end, life, filmmaker, kirsten,...  \n",
       "1  [crossing, paths, party, cape, town, teen, set...  \n",
       "2  [protect, family, powerful, drug, lord, skille...  \n",
       "3  [feuds, flirtations, toilet, talk, among, inca...  \n",
       "4  [city, coaching, centers, known, train, india,...  "
      ]
     },
     "execution_count": 148,
     "metadata": {},
     "output_type": "execute_result"
    }
   ],
   "source": [
    "#Removing NaN results\n",
    "df['cast'] = df['cast'].fillna(' ')\n",
    "df['director'] = df['director'].fillna(' ')\n",
    "df.head()"
   ]
  },
  {
   "cell_type": "code",
   "execution_count": 149,
   "id": "9cc43a6d",
   "metadata": {},
   "outputs": [
    {
     "data": {
      "text/plain": [
       "0                                      [Documentaries]\n",
       "1    [International TV Shows,  TV Dramas,  TV Myste...\n",
       "2    [Crime TV Shows,  International TV Shows,  TV ...\n",
       "3                            [Docuseries,  Reality TV]\n",
       "4    [International TV Shows,  Romantic TV Shows,  ...\n",
       "Name: listed_in, dtype: object"
      ]
     },
     "execution_count": 149,
     "metadata": {},
     "output_type": "execute_result"
    }
   ],
   "source": [
    "df['listed_in'] = df['listed_in'].apply(lambda x: x.split(','))\n",
    "df['listed_in'].head()"
   ]
  },
  {
   "cell_type": "code",
   "execution_count": 150,
   "id": "c1b4674c",
   "metadata": {},
   "outputs": [
    {
     "data": {
      "text/plain": [
       "0                                                  [ ]\n",
       "1    [Ama Qamata,  Khosi Ngema,  Gail Mabalane,  Th...\n",
       "2    [Sami Bouajila,  Tracy Gotoas,  Samuel Jouy,  ...\n",
       "3                                                  [ ]\n",
       "4    [Mayur More,  Jitendra Kumar,  Ranjan Raj,  Al...\n",
       "Name: cast, dtype: object"
      ]
     },
     "execution_count": 150,
     "metadata": {},
     "output_type": "execute_result"
    }
   ],
   "source": [
    "df['cast'] = df['cast'].apply(lambda x: x.split(',')[:4])\n",
    "df['cast'].head()"
   ]
  },
  {
   "cell_type": "code",
   "execution_count": 151,
   "id": "86c985b9",
   "metadata": {},
   "outputs": [
    {
     "data": {
      "text/plain": [
       "0    [Kirsten Johnson]\n",
       "1                  [ ]\n",
       "2    [Julien Leclercq]\n",
       "3                  [ ]\n",
       "4                  [ ]\n",
       "Name: director, dtype: object"
      ]
     },
     "execution_count": 151,
     "metadata": {},
     "output_type": "execute_result"
    }
   ],
   "source": [
    "df['director'] = df['director'].apply(lambda x: x.split(','))\n",
    "df['director'].head()"
   ]
  },
  {
   "cell_type": "code",
   "execution_count": 152,
   "id": "7b38d33b",
   "metadata": {},
   "outputs": [],
   "source": [
    "def clean(sentence):\n",
    "    temp = []\n",
    "    for word in sentence:\n",
    "        temp.append(word.lower().replace(' ', ''))\n",
    "    return temp"
   ]
  },
  {
   "cell_type": "code",
   "execution_count": 153,
   "id": "6fb4ee5c",
   "metadata": {},
   "outputs": [],
   "source": [
    "df['listed_in'] = [clean(x) for x in df['listed_in']]\n",
    "df['cast'] = [clean(x) for x in df['cast']]\n",
    "df['director'] = [clean(x) for x in df['director']]"
   ]
  },
  {
   "cell_type": "code",
   "execution_count": 154,
   "id": "539d500e",
   "metadata": {},
   "outputs": [],
   "source": [
    "# combining all the columns data\n",
    "#columns = ['clean_plot', 'listed_in', 'cast', 'director']\n",
    "columns = ['clean_plot']\n",
    "\n",
    "def merge_Columns(columns,dfImdb):\n",
    "\n",
    "    list1 = []\n",
    "    for i in range(len(dfImdb)):\n",
    "        words = ''\n",
    "        for col in columns:\n",
    "            words += ' '.join(dfImdb[col][i]) + ' '\n",
    "        list1.append(words)\n",
    "    return list1\n",
    "\n",
    "l = merge_Columns(columns,df)\n"
   ]
  },
  {
   "cell_type": "code",
   "execution_count": 155,
   "id": "3dbb314b",
   "metadata": {},
   "outputs": [
    {
     "data": {
      "text/html": [
       "<div>\n",
       "<style scoped>\n",
       "    .dataframe tbody tr th:only-of-type {\n",
       "        vertical-align: middle;\n",
       "    }\n",
       "\n",
       "    .dataframe tbody tr th {\n",
       "        vertical-align: top;\n",
       "    }\n",
       "\n",
       "    .dataframe thead th {\n",
       "        text-align: right;\n",
       "    }\n",
       "</style>\n",
       "<table border=\"1\" class=\"dataframe\">\n",
       "  <thead>\n",
       "    <tr style=\"text-align: right;\">\n",
       "      <th></th>\n",
       "      <th>title</th>\n",
       "      <th>clean_input</th>\n",
       "    </tr>\n",
       "  </thead>\n",
       "  <tbody>\n",
       "    <tr>\n",
       "      <th>0</th>\n",
       "      <td>Dick Johnson Is Dead</td>\n",
       "      <td>father nears end life filmmaker kirsten johnso...</td>\n",
       "    </tr>\n",
       "    <tr>\n",
       "      <th>1</th>\n",
       "      <td>Blood &amp; Water</td>\n",
       "      <td>crossing paths party cape town teen sets prove...</td>\n",
       "    </tr>\n",
       "    <tr>\n",
       "      <th>2</th>\n",
       "      <td>Ganglands</td>\n",
       "      <td>protect family powerful drug lord skilled thie...</td>\n",
       "    </tr>\n",
       "    <tr>\n",
       "      <th>3</th>\n",
       "      <td>Jailbirds New Orleans</td>\n",
       "      <td>feuds flirtations toilet talk among incarcerat...</td>\n",
       "    </tr>\n",
       "    <tr>\n",
       "      <th>4</th>\n",
       "      <td>Kota Factory</td>\n",
       "      <td>city coaching centers known train india finest...</td>\n",
       "    </tr>\n",
       "  </tbody>\n",
       "</table>\n",
       "</div>"
      ],
      "text/plain": [
       "                   title                                        clean_input\n",
       "0   Dick Johnson Is Dead  father nears end life filmmaker kirsten johnso...\n",
       "1          Blood & Water  crossing paths party cape town teen sets prove...\n",
       "2              Ganglands  protect family powerful drug lord skilled thie...\n",
       "3  Jailbirds New Orleans  feuds flirtations toilet talk among incarcerat...\n",
       "4           Kota Factory  city coaching centers known train india finest..."
      ]
     },
     "execution_count": 155,
     "metadata": {},
     "output_type": "execute_result"
    }
   ],
   "source": [
    "df['clean_input'] = l\n",
    "df = df[['title', 'clean_input']]\n",
    "df.head()"
   ]
  },
  {
   "cell_type": "markdown",
   "id": "26af1546",
   "metadata": {},
   "source": [
    "#### Clustering Method\n",
    "Used fit_transform on the training data. <br/> It calculates the mean and variance from feature and transform the features using the respective mean and variance"
   ]
  },
  {
   "cell_type": "code",
   "execution_count": 156,
   "id": "e1acdb58",
   "metadata": {},
   "outputs": [],
   "source": [
    "from sklearn.feature_extraction.text import TfidfVectorizer, CountVectorizer\n",
    "tfidf = TfidfVectorizer()\n",
    "features = tfidf.fit_transform(df['clean_input'])"
   ]
  },
  {
   "cell_type": "markdown",
   "id": "16423f99",
   "metadata": {},
   "source": [
    "#### Utilising Cosine Similarity for Features"
   ]
  },
  {
   "cell_type": "code",
   "execution_count": 157,
   "id": "2725e064",
   "metadata": {},
   "outputs": [
    {
     "name": "stdout",
     "output_type": "stream",
     "text": [
      "[[1.         0.         0.         ... 0.         0.0149629  0.        ]\n",
      " [0.         1.         0.         ... 0.         0.         0.        ]\n",
      " [0.         0.         1.         ... 0.         0.         0.02230089]\n",
      " ...\n",
      " [0.         0.         0.         ... 1.         0.         0.        ]\n",
      " [0.0149629  0.         0.         ... 0.         1.         0.        ]\n",
      " [0.         0.         0.02230089 ... 0.         0.         1.        ]]\n"
     ]
    }
   ],
   "source": [
    "# create cosine similarity matrix\n",
    "from sklearn.metrics.pairwise import cosine_similarity\n",
    "cosine_sim = cosine_similarity(features, features)\n",
    "print(cosine_sim)"
   ]
  },
  {
   "cell_type": "markdown",
   "id": "fa1a40cd",
   "metadata": {},
   "source": [
    "#### Utilising Euclidean Distance for Features"
   ]
  },
  {
   "cell_type": "code",
   "execution_count": 158,
   "id": "c01ff029",
   "metadata": {},
   "outputs": [
    {
     "name": "stdout",
     "output_type": "stream",
     "text": [
      "[[0.         1.41421356 1.41421356 ... 1.41421356 1.40359332 1.41421356]\n",
      " [1.41421356 0.         1.41421356 ... 1.41421356 1.41421356 1.41421356]\n",
      " [1.41421356 1.41421356 0.         ... 1.41421356 1.41421356 1.39835554]\n",
      " ...\n",
      " [1.41421356 1.41421356 1.41421356 ... 0.         1.41421356 1.41421356]\n",
      " [1.40359332 1.41421356 1.41421356 ... 1.41421356 0.         1.41421356]\n",
      " [1.41421356 1.41421356 1.39835554 ... 1.41421356 1.41421356 0.        ]]\n"
     ]
    }
   ],
   "source": [
    "from sklearn.metrics.pairwise import euclidean_distances\n",
    "euclidean_dist = euclidean_distances(features,features)\n",
    "print(euclidean_dist)"
   ]
  },
  {
   "cell_type": "code",
   "execution_count": 159,
   "id": "d072542b",
   "metadata": {},
   "outputs": [
    {
     "data": {
      "text/plain": [
       "0     Dick Johnson Is Dead\n",
       "1            Blood & Water\n",
       "2                Ganglands\n",
       "3    Jailbirds New Orleans\n",
       "4             Kota Factory\n",
       "Name: title, dtype: object"
      ]
     },
     "execution_count": 159,
     "metadata": {},
     "output_type": "execute_result"
    }
   ],
   "source": [
    "index = pd.Series(df['title'])\n",
    "index.head()"
   ]
  },
  {
   "cell_type": "code",
   "execution_count": 160,
   "id": "cdca534e",
   "metadata": {},
   "outputs": [],
   "source": [
    "def recommend_netflix(title):\n",
    "    movies = []\n",
    "    idx = index[index == title].index[0]\n",
    "    \n",
    "    print('NETFLIX INDEX:')\n",
    "    print(idx)\n",
    "    score = pd.Series(cosine_sim[idx]).sort_values(ascending=False)\n",
    "    \n",
    "    print('')\n",
    "    print('COS SIM SCORE:')\n",
    "    print(score)\n",
    "    top10 = list(score.iloc[1:11].index)\n",
    "    \n",
    "    print('')\n",
    "    print('TOP 10 RECS:')\n",
    "    print(top10)\n",
    "    \n",
    "    for i in top10:\n",
    "        movies.append(df['title'][i])\n",
    "    return movies"
   ]
  },
  {
   "cell_type": "code",
   "execution_count": 161,
   "id": "8f2ba509",
   "metadata": {},
   "outputs": [],
   "source": [
    "def recommend_netflix_ed(title):\n",
    "    movies = []\n",
    "    idx = index[index == title].index[0]\n",
    "    \n",
    "    print('NETFLIX INDEX:')\n",
    "    print(idx)\n",
    "    score = pd.Series(euclidean_dist[idx]).sort_values(ascending=True)\n",
    "    \n",
    "    print('')\n",
    "    print('EUCLIDEAN DISTANCE SCORE:')\n",
    "    print(score)\n",
    "    top10 = list(score.iloc[1:11].index)\n",
    "    \n",
    "    print('')\n",
    "    print('TOP 10 RECS:')\n",
    "    print(top10)\n",
    "    \n",
    "    for i in top10:\n",
    "        movies.append(df['title'][i])\n",
    "        \n",
    "    return movies"
   ]
  },
  {
   "cell_type": "markdown",
   "id": "fa9474de",
   "metadata": {},
   "source": [
    "#### Performance Metrics with RMSE ( Root Mean Square Error )"
   ]
  },
  {
   "cell_type": "code",
   "execution_count": 162,
   "id": "0e44dec5",
   "metadata": {},
   "outputs": [],
   "source": [
    "from sklearn.model_selection import train_test_split\n",
    "train_data, test_data = train_test_split(euclidean_dist, test_size=0.2)\n",
    "\n",
    "# Function to predict ratings\n",
    "def predict(data, similarity, type='item'):\n",
    "    if type == 'item':\n",
    "        pred = data.dot(similarity) / np.array([np.abs(similarity).sum(axis=1)])\n",
    "    return pred\n"
   ]
  },
  {
   "cell_type": "markdown",
   "id": "bbb29bca",
   "metadata": {},
   "source": [
    "#### RMSE Formula and Implementation"
   ]
  },
  {
   "cell_type": "code",
   "execution_count": 163,
   "id": "612fdb4c",
   "metadata": {},
   "outputs": [
    {
     "name": "stdout",
     "output_type": "stream",
     "text": [
      "Item-based CF RMSE: 0.016911690529273694\n"
     ]
    }
   ],
   "source": [
    "from sklearn.metrics import mean_squared_error\n",
    "from math import sqrt\n",
    "\n",
    "# Function to calculate RMSE\n",
    "def rmse(pred, actual):\n",
    "    return sqrt(mean_squared_error(pred, actual))\n",
    "\n",
    "# Predict ratings on the training data with similarity score\n",
    "item_prediction = predict(train_data, cosine_sim, type='item')\n",
    "\n",
    "# RMSE on the train data\n",
    "print('Item-based CF RMSE: ' + str(rmse(item_prediction, train_data)))\n"
   ]
  },
  {
   "cell_type": "markdown",
   "id": "5cfd0a52",
   "metadata": {},
   "source": [
    "To run recommend_netflix(\"Film_Title\") <br>\n",
    "Ensure that the Film is in netflix_title.csv"
   ]
  },
  {
   "cell_type": "code",
   "execution_count": 164,
   "id": "18c7d72b",
   "metadata": {},
   "outputs": [
    {
     "name": "stdout",
     "output_type": "stream",
     "text": [
      "NETFLIX INDEX:\n",
      "2426\n",
      "\n",
      "COS SIM SCORE:\n",
      "2426    1.000000\n",
      "519     0.203437\n",
      "3804    0.157553\n",
      "5841    0.156880\n",
      "7410    0.151444\n",
      "          ...   \n",
      "3115    0.000000\n",
      "3114    0.000000\n",
      "3113    0.000000\n",
      "3112    0.000000\n",
      "8806    0.000000\n",
      "Length: 8807, dtype: float64\n",
      "\n",
      "TOP 10 RECS:\n",
      "[519, 3804, 5841, 7410, 2758, 8335, 5192, 604, 3869, 421]\n"
     ]
    },
    {
     "data": {
      "text/plain": [
       "['I AM A KILLER',\n",
       " 'The Man Who Feels No Pain',\n",
       " 'Ip Man 3',\n",
       " 'Martial Arts of Shaolin',\n",
       " \"Through My Father's Eyes: The Ronda Rousey Story\",\n",
       " 'The Green Hornet',\n",
       " 'The Golden Path',\n",
       " 'The Life of David Gale',\n",
       " 'Olympus Has Fallen',\n",
       " 'Chhota Bheem: Dus Pe Dus']"
      ]
     },
     "execution_count": 164,
     "metadata": {},
     "output_type": "execute_result"
    }
   ],
   "source": [
    "recommend_netflix('BAKI')"
   ]
  },
  {
   "cell_type": "code",
   "execution_count": 165,
   "id": "053f29ad",
   "metadata": {},
   "outputs": [
    {
     "name": "stdout",
     "output_type": "stream",
     "text": [
      "NETFLIX INDEX:\n",
      "2426\n",
      "\n",
      "EUCLIDEAN DISTANCE SCORE:\n",
      "2426    0.000000\n",
      "519     1.262191\n",
      "3804    1.298035\n",
      "5841    1.298553\n",
      "7410    1.302732\n",
      "          ...   \n",
      "3398    1.414214\n",
      "5550    1.414214\n",
      "2170    1.414214\n",
      "4977    1.414214\n",
      "2635    1.414214\n",
      "Length: 8807, dtype: float64\n",
      "\n",
      "TOP 10 RECS:\n",
      "[519, 3804, 5841, 7410, 2758, 8335, 5192, 604, 3869, 421]\n"
     ]
    },
    {
     "data": {
      "text/plain": [
       "['I AM A KILLER',\n",
       " 'The Man Who Feels No Pain',\n",
       " 'Ip Man 3',\n",
       " 'Martial Arts of Shaolin',\n",
       " \"Through My Father's Eyes: The Ronda Rousey Story\",\n",
       " 'The Green Hornet',\n",
       " 'The Golden Path',\n",
       " 'The Life of David Gale',\n",
       " 'Olympus Has Fallen',\n",
       " 'Chhota Bheem: Dus Pe Dus']"
      ]
     },
     "execution_count": 165,
     "metadata": {},
     "output_type": "execute_result"
    }
   ],
   "source": [
    "recommend_netflix_ed('BAKI')"
   ]
  },
  {
   "cell_type": "code",
   "execution_count": 166,
   "id": "0ce8e2af",
   "metadata": {},
   "outputs": [
    {
     "data": {
      "text/plain": [
       "3       1.000000\n",
       "2132    0.178974\n",
       "1391    0.176787\n",
       "8495    0.170294\n",
       "4709    0.168806\n",
       "          ...   \n",
       "3193    0.000000\n",
       "3192    0.000000\n",
       "3191    0.000000\n",
       "3190    0.000000\n",
       "8806    0.000000\n",
       "Length: 8807, dtype: float64"
      ]
     },
     "execution_count": 166,
     "metadata": {},
     "output_type": "execute_result"
    }
   ],
   "source": [
    "pd.Series(cosine_sim[3]).sort_values(ascending=False)"
   ]
  },
  {
   "cell_type": "code",
   "execution_count": 167,
   "id": "d963298e",
   "metadata": {},
   "outputs": [
    {
     "name": "stdout",
     "output_type": "stream",
     "text": [
      "NETFLIX INDEX:\n",
      "516\n",
      "\n",
      "COS SIM SCORE:\n",
      "516     1.000000\n",
      "2963    0.199672\n",
      "6383    0.114275\n",
      "8409    0.106995\n",
      "3322    0.106847\n",
      "          ...   \n",
      "3102    0.000000\n",
      "3100    0.000000\n",
      "3099    0.000000\n",
      "3098    0.000000\n",
      "8806    0.000000\n",
      "Length: 8807, dtype: float64\n",
      "\n",
      "TOP 10 RECS:\n",
      "[2963, 6383, 8409, 3322, 5419, 7907, 7174, 6760, 1777, 933]\n"
     ]
    },
    {
     "data": {
      "text/plain": [
       "['Misfit 2',\n",
       " 'Bruno and Boots: The Wizzle War',\n",
       " 'The Mad Monk',\n",
       " 'Liar, Liar, Vampire',\n",
       " 'You Get Me',\n",
       " 'Russell Madness',\n",
       " 'Kay Dyache Bola',\n",
       " 'FirstBorn',\n",
       " 'Kaali Khuhi',\n",
       " \"Hachi: A Dog's Tale\"]"
      ]
     },
     "execution_count": 167,
     "metadata": {},
     "output_type": "execute_result"
    }
   ],
   "source": [
    "recommend_netflix('Girl from Nowhere')"
   ]
  },
  {
   "cell_type": "markdown",
   "id": "f37c1fef",
   "metadata": {},
   "source": [
    "## Second Dataset: IMDB Top 1000"
   ]
  },
  {
   "cell_type": "code",
   "execution_count": 168,
   "id": "4c60b69b",
   "metadata": {},
   "outputs": [
    {
     "data": {
      "text/html": [
       "<div>\n",
       "<style scoped>\n",
       "    .dataframe tbody tr th:only-of-type {\n",
       "        vertical-align: middle;\n",
       "    }\n",
       "\n",
       "    .dataframe tbody tr th {\n",
       "        vertical-align: top;\n",
       "    }\n",
       "\n",
       "    .dataframe thead th {\n",
       "        text-align: right;\n",
       "    }\n",
       "</style>\n",
       "<table border=\"1\" class=\"dataframe\">\n",
       "  <thead>\n",
       "    <tr style=\"text-align: right;\">\n",
       "      <th></th>\n",
       "      <th>Poster_Link</th>\n",
       "      <th>Series_Title</th>\n",
       "      <th>Released_Year</th>\n",
       "      <th>Certificate</th>\n",
       "      <th>Runtime</th>\n",
       "      <th>Genre</th>\n",
       "      <th>IMDB_Rating</th>\n",
       "      <th>Overview</th>\n",
       "      <th>Meta_score</th>\n",
       "      <th>Director</th>\n",
       "      <th>Star1</th>\n",
       "      <th>Star2</th>\n",
       "      <th>Star3</th>\n",
       "      <th>Star4</th>\n",
       "      <th>No_of_Votes</th>\n",
       "      <th>Gross</th>\n",
       "    </tr>\n",
       "  </thead>\n",
       "  <tbody>\n",
       "    <tr>\n",
       "      <th>0</th>\n",
       "      <td>https://m.media-amazon.com/images/M/MV5BMDFkYT...</td>\n",
       "      <td>The Shawshank Redemption</td>\n",
       "      <td>1994</td>\n",
       "      <td>A</td>\n",
       "      <td>142 min</td>\n",
       "      <td>Drama</td>\n",
       "      <td>9.3</td>\n",
       "      <td>Two imprisoned men bond over a number of years...</td>\n",
       "      <td>80.0</td>\n",
       "      <td>Frank Darabont</td>\n",
       "      <td>Tim Robbins</td>\n",
       "      <td>Morgan Freeman</td>\n",
       "      <td>Bob Gunton</td>\n",
       "      <td>William Sadler</td>\n",
       "      <td>2343110</td>\n",
       "      <td>28,341,469</td>\n",
       "    </tr>\n",
       "    <tr>\n",
       "      <th>1</th>\n",
       "      <td>https://m.media-amazon.com/images/M/MV5BM2MyNj...</td>\n",
       "      <td>The Godfather</td>\n",
       "      <td>1972</td>\n",
       "      <td>A</td>\n",
       "      <td>175 min</td>\n",
       "      <td>Crime, Drama</td>\n",
       "      <td>9.2</td>\n",
       "      <td>An organized crime dynasty's aging patriarch t...</td>\n",
       "      <td>100.0</td>\n",
       "      <td>Francis Ford Coppola</td>\n",
       "      <td>Marlon Brando</td>\n",
       "      <td>Al Pacino</td>\n",
       "      <td>James Caan</td>\n",
       "      <td>Diane Keaton</td>\n",
       "      <td>1620367</td>\n",
       "      <td>134,966,411</td>\n",
       "    </tr>\n",
       "    <tr>\n",
       "      <th>2</th>\n",
       "      <td>https://m.media-amazon.com/images/M/MV5BMTMxNT...</td>\n",
       "      <td>The Dark Knight</td>\n",
       "      <td>2008</td>\n",
       "      <td>UA</td>\n",
       "      <td>152 min</td>\n",
       "      <td>Action, Crime, Drama</td>\n",
       "      <td>9.0</td>\n",
       "      <td>When the menace known as the Joker wreaks havo...</td>\n",
       "      <td>84.0</td>\n",
       "      <td>Christopher Nolan</td>\n",
       "      <td>Christian Bale</td>\n",
       "      <td>Heath Ledger</td>\n",
       "      <td>Aaron Eckhart</td>\n",
       "      <td>Michael Caine</td>\n",
       "      <td>2303232</td>\n",
       "      <td>534,858,444</td>\n",
       "    </tr>\n",
       "    <tr>\n",
       "      <th>3</th>\n",
       "      <td>https://m.media-amazon.com/images/M/MV5BMWMwMG...</td>\n",
       "      <td>The Godfather: Part II</td>\n",
       "      <td>1974</td>\n",
       "      <td>A</td>\n",
       "      <td>202 min</td>\n",
       "      <td>Crime, Drama</td>\n",
       "      <td>9.0</td>\n",
       "      <td>The early life and career of Vito Corleone in ...</td>\n",
       "      <td>90.0</td>\n",
       "      <td>Francis Ford Coppola</td>\n",
       "      <td>Al Pacino</td>\n",
       "      <td>Robert De Niro</td>\n",
       "      <td>Robert Duvall</td>\n",
       "      <td>Diane Keaton</td>\n",
       "      <td>1129952</td>\n",
       "      <td>57,300,000</td>\n",
       "    </tr>\n",
       "    <tr>\n",
       "      <th>4</th>\n",
       "      <td>https://m.media-amazon.com/images/M/MV5BMWU4N2...</td>\n",
       "      <td>12 Angry Men</td>\n",
       "      <td>1957</td>\n",
       "      <td>U</td>\n",
       "      <td>96 min</td>\n",
       "      <td>Crime, Drama</td>\n",
       "      <td>9.0</td>\n",
       "      <td>A jury holdout attempts to prevent a miscarria...</td>\n",
       "      <td>96.0</td>\n",
       "      <td>Sidney Lumet</td>\n",
       "      <td>Henry Fonda</td>\n",
       "      <td>Lee J. Cobb</td>\n",
       "      <td>Martin Balsam</td>\n",
       "      <td>John Fiedler</td>\n",
       "      <td>689845</td>\n",
       "      <td>4,360,000</td>\n",
       "    </tr>\n",
       "  </tbody>\n",
       "</table>\n",
       "</div>"
      ],
      "text/plain": [
       "                                         Poster_Link  \\\n",
       "0  https://m.media-amazon.com/images/M/MV5BMDFkYT...   \n",
       "1  https://m.media-amazon.com/images/M/MV5BM2MyNj...   \n",
       "2  https://m.media-amazon.com/images/M/MV5BMTMxNT...   \n",
       "3  https://m.media-amazon.com/images/M/MV5BMWMwMG...   \n",
       "4  https://m.media-amazon.com/images/M/MV5BMWU4N2...   \n",
       "\n",
       "               Series_Title Released_Year Certificate  Runtime  \\\n",
       "0  The Shawshank Redemption          1994           A  142 min   \n",
       "1             The Godfather          1972           A  175 min   \n",
       "2           The Dark Knight          2008          UA  152 min   \n",
       "3    The Godfather: Part II          1974           A  202 min   \n",
       "4              12 Angry Men          1957           U   96 min   \n",
       "\n",
       "                  Genre  IMDB_Rating  \\\n",
       "0                 Drama          9.3   \n",
       "1          Crime, Drama          9.2   \n",
       "2  Action, Crime, Drama          9.0   \n",
       "3          Crime, Drama          9.0   \n",
       "4          Crime, Drama          9.0   \n",
       "\n",
       "                                            Overview  Meta_score  \\\n",
       "0  Two imprisoned men bond over a number of years...        80.0   \n",
       "1  An organized crime dynasty's aging patriarch t...       100.0   \n",
       "2  When the menace known as the Joker wreaks havo...        84.0   \n",
       "3  The early life and career of Vito Corleone in ...        90.0   \n",
       "4  A jury holdout attempts to prevent a miscarria...        96.0   \n",
       "\n",
       "               Director           Star1           Star2          Star3  \\\n",
       "0        Frank Darabont     Tim Robbins  Morgan Freeman     Bob Gunton   \n",
       "1  Francis Ford Coppola   Marlon Brando       Al Pacino     James Caan   \n",
       "2     Christopher Nolan  Christian Bale    Heath Ledger  Aaron Eckhart   \n",
       "3  Francis Ford Coppola       Al Pacino  Robert De Niro  Robert Duvall   \n",
       "4          Sidney Lumet     Henry Fonda     Lee J. Cobb  Martin Balsam   \n",
       "\n",
       "            Star4  No_of_Votes        Gross  \n",
       "0  William Sadler      2343110   28,341,469  \n",
       "1    Diane Keaton      1620367  134,966,411  \n",
       "2   Michael Caine      2303232  534,858,444  \n",
       "3    Diane Keaton      1129952   57,300,000  \n",
       "4    John Fiedler       689845    4,360,000  "
      ]
     },
     "execution_count": 168,
     "metadata": {},
     "output_type": "execute_result"
    }
   ],
   "source": [
    "dfImdb = pd.read_csv(\"imdb_top_1000.csv\")\n",
    "dfImdb.head()"
   ]
  },
  {
   "cell_type": "code",
   "execution_count": 169,
   "id": "62d2cce9",
   "metadata": {},
   "outputs": [
    {
     "data": {
      "text/plain": [
       "0    Two imprisoned men bond over a number of years...\n",
       "1    An organized crime dynasty's aging patriarch t...\n",
       "2    When the menace known as the Joker wreaks havo...\n",
       "3    The early life and career of Vito Corleone in ...\n",
       "4    A jury holdout attempts to prevent a miscarria...\n",
       "Name: Overview, dtype: object"
      ]
     },
     "execution_count": 169,
     "metadata": {},
     "output_type": "execute_result"
    }
   ],
   "source": [
    "dfImdb[\"Overview\"].head()"
   ]
  },
  {
   "cell_type": "code",
   "execution_count": 170,
   "id": "a6d03a8f",
   "metadata": {},
   "outputs": [
    {
     "name": "stdout",
     "output_type": "stream",
     "text": [
      "<class 'pandas.core.frame.DataFrame'>\n",
      "RangeIndex: 1000 entries, 0 to 999\n",
      "Data columns (total 16 columns):\n",
      " #   Column         Non-Null Count  Dtype  \n",
      "---  ------         --------------  -----  \n",
      " 0   Poster_Link    1000 non-null   object \n",
      " 1   Series_Title   1000 non-null   object \n",
      " 2   Released_Year  1000 non-null   object \n",
      " 3   Certificate    899 non-null    object \n",
      " 4   Runtime        1000 non-null   object \n",
      " 5   Genre          1000 non-null   object \n",
      " 6   IMDB_Rating    1000 non-null   float64\n",
      " 7   Overview       1000 non-null   object \n",
      " 8   Meta_score     843 non-null    float64\n",
      " 9   Director       1000 non-null   object \n",
      " 10  Star1          1000 non-null   object \n",
      " 11  Star2          1000 non-null   object \n",
      " 12  Star3          1000 non-null   object \n",
      " 13  Star4          1000 non-null   object \n",
      " 14  No_of_Votes    1000 non-null   int64  \n",
      " 15  Gross          831 non-null    object \n",
      "dtypes: float64(2), int64(1), object(13)\n",
      "memory usage: 125.1+ KB\n"
     ]
    }
   ],
   "source": [
    "dfImdb.info()"
   ]
  },
  {
   "cell_type": "code",
   "execution_count": 171,
   "id": "0445a1c7",
   "metadata": {},
   "outputs": [
    {
     "data": {
      "text/plain": [
       "1000"
      ]
     },
     "execution_count": 171,
     "metadata": {},
     "output_type": "execute_result"
    }
   ],
   "source": [
    "len(dfImdb)"
   ]
  },
  {
   "cell_type": "markdown",
   "id": "798785b9",
   "metadata": {},
   "source": [
    "# Analysis of IMDB Movies"
   ]
  },
  {
   "cell_type": "code",
   "execution_count": 172,
   "id": "31348c23",
   "metadata": {},
   "outputs": [
    {
     "data": {
      "text/html": [
       "<div>\n",
       "<style scoped>\n",
       "    .dataframe tbody tr th:only-of-type {\n",
       "        vertical-align: middle;\n",
       "    }\n",
       "\n",
       "    .dataframe tbody tr th {\n",
       "        vertical-align: top;\n",
       "    }\n",
       "\n",
       "    .dataframe thead th {\n",
       "        text-align: right;\n",
       "    }\n",
       "</style>\n",
       "<table border=\"1\" class=\"dataframe\">\n",
       "  <thead>\n",
       "    <tr style=\"text-align: right;\">\n",
       "      <th>col_0</th>\n",
       "      <th>Count</th>\n",
       "    </tr>\n",
       "    <tr>\n",
       "      <th>Genre</th>\n",
       "      <th></th>\n",
       "    </tr>\n",
       "  </thead>\n",
       "  <tbody>\n",
       "    <tr>\n",
       "      <th>Drama</th>\n",
       "      <td>85</td>\n",
       "    </tr>\n",
       "    <tr>\n",
       "      <th>Drama, Romance</th>\n",
       "      <td>37</td>\n",
       "    </tr>\n",
       "    <tr>\n",
       "      <th>Comedy, Drama</th>\n",
       "      <td>35</td>\n",
       "    </tr>\n",
       "    <tr>\n",
       "      <th>Comedy, Drama, Romance</th>\n",
       "      <td>31</td>\n",
       "    </tr>\n",
       "    <tr>\n",
       "      <th>Action, Crime, Drama</th>\n",
       "      <td>30</td>\n",
       "    </tr>\n",
       "    <tr>\n",
       "      <th>...</th>\n",
       "      <td>...</td>\n",
       "    </tr>\n",
       "    <tr>\n",
       "      <th>Action, Crime, Mystery</th>\n",
       "      <td>1</td>\n",
       "    </tr>\n",
       "    <tr>\n",
       "      <th>Crime, Drama, Sci-Fi</th>\n",
       "      <td>1</td>\n",
       "    </tr>\n",
       "    <tr>\n",
       "      <th>Animation, Crime, Mystery</th>\n",
       "      <td>1</td>\n",
       "    </tr>\n",
       "    <tr>\n",
       "      <th>Animation, Drama, Romance</th>\n",
       "      <td>1</td>\n",
       "    </tr>\n",
       "    <tr>\n",
       "      <th>Crime, Drama, Horror</th>\n",
       "      <td>1</td>\n",
       "    </tr>\n",
       "  </tbody>\n",
       "</table>\n",
       "<p>202 rows × 1 columns</p>\n",
       "</div>"
      ],
      "text/plain": [
       "col_0                      Count\n",
       "Genre                           \n",
       "Drama                         85\n",
       "Drama, Romance                37\n",
       "Comedy, Drama                 35\n",
       "Comedy, Drama, Romance        31\n",
       "Action, Crime, Drama          30\n",
       "...                          ...\n",
       "Action, Crime, Mystery         1\n",
       "Crime, Drama, Sci-Fi           1\n",
       "Animation, Crime, Mystery      1\n",
       "Animation, Drama, Romance      1\n",
       "Crime, Drama, Horror           1\n",
       "\n",
       "[202 rows x 1 columns]"
      ]
     },
     "execution_count": 172,
     "metadata": {},
     "output_type": "execute_result"
    }
   ],
   "source": [
    "from itertools import count\n",
    "genreFreq = pd.crosstab(index = dfImdb[\"Genre\"],columns = \"Count\" )\n",
    "genreFreq = genreFreq.sort_values(by = \"Count\" , ascending= False)\n",
    "genreFreq"
   ]
  },
  {
   "cell_type": "code",
   "execution_count": 173,
   "id": "26088309",
   "metadata": {},
   "outputs": [
    {
     "data": {
      "image/png": "[encoded data removed]",
      "text/plain": [
       "<Figure size 640x480 with 1 Axes>"
      ]
     },
     "metadata": {},
     "output_type": "display_data"
    }
   ],
   "source": [
    "text = \" \".join(Genre for Genre in dfImdb[\"Genre\"])\n",
    "wordcloud = WordCloud().generate(text)\n",
    "\n",
    "plt.imshow(wordcloud, interpolation = 'bilinear')\n",
    "plt.axis(\"off\")\n",
    "plt.show()"
   ]
  },
  {
   "cell_type": "markdown",
   "id": "83f0a1d7",
   "metadata": {},
   "source": [
    "From the analysis above, the largest number of Genre of movies is Drama with a count of 85. <br/> Based on the number of different movies in different genres, are we able to utilise their content to recommend similar movies of the same genre?"
   ]
  },
  {
   "cell_type": "code",
   "execution_count": 174,
   "id": "ea8768a2",
   "metadata": {},
   "outputs": [
    {
     "data": {
      "image/png": "[encoded data removed]",
      "text/plain": [
       "<Figure size 1000x800 with 1 Axes>"
      ]
     },
     "metadata": {},
     "output_type": "display_data"
    }
   ],
   "source": [
    "plt.figure(figsize = (10,8))\n",
    "sns.set(style = \"whitegrid\")\n",
    "axis = sns.countplot( y = \"Released_Year\", data = dfImdb, palette = \"icefire\", order = dfImdb[\"Released_Year\"].value_counts().index[0:20] )"
   ]
  },
  {
   "cell_type": "markdown",
   "id": "9b98658f",
   "metadata": {},
   "source": [
    "It is observed that the top 3 released years are 2014, 2004 and 2009. "
   ]
  },
  {
   "cell_type": "markdown",
   "id": "3a52d366",
   "metadata": {},
   "source": [
    "## Preprocessing for IMDB Top 1000 Dataset"
   ]
  },
  {
   "cell_type": "code",
   "execution_count": 175,
   "id": "6dc5b419",
   "metadata": {},
   "outputs": [
    {
     "data": {
      "text/plain": [
       "0      two imprisoned men bond over a number of years...\n",
       "1      an organized crime dynasty s aging patriarch t...\n",
       "2      when the menace known as the joker wreaks havo...\n",
       "3      the early life and career of vito corleone in ...\n",
       "4      a jury holdout attempts to prevent a miscarria...\n",
       "                             ...                        \n",
       "995    a young new york socialite becomes interested ...\n",
       "996    sprawling epic covering the life of a texas ca...\n",
       "997    in hawaii in a private is cruelly punished for...\n",
       "998    several survivors of a torpedoed merchant ship...\n",
       "999    a man in london tries to help a counter espion...\n",
       "Name: clean_overview, Length: 1000, dtype: object"
      ]
     },
     "execution_count": 175,
     "metadata": {},
     "output_type": "execute_result"
    }
   ],
   "source": [
    "dfImdb['clean_overview'] = dfImdb[\"Overview\"].str.lower()\n",
    "dfImdb['clean_overview'] = dfImdb['clean_overview'].apply(lambda x: re.sub('[^a-zA-Z]', ' ', x))\n",
    "dfImdb['clean_overview'] = dfImdb['clean_overview'].apply(lambda x: re.sub('\\s+', ' ', x))\n",
    "dfImdb['clean_overview']"
   ]
  },
  {
   "cell_type": "code",
   "execution_count": 176,
   "id": "c444dba6",
   "metadata": {},
   "outputs": [
    {
     "data": {
      "text/plain": [
       "0      [two, imprisoned, men, bond, over, a, number, ...\n",
       "1      [an, organized, crime, dynasty, s, aging, patr...\n",
       "2      [when, the, menace, known, as, the, joker, wre...\n",
       "3      [the, early, life, and, career, of, vito, corl...\n",
       "4      [a, jury, holdout, attempts, to, prevent, a, m...\n",
       "                             ...                        \n",
       "995    [a, young, new, york, socialite, becomes, inte...\n",
       "996    [sprawling, epic, covering, the, life, of, a, ...\n",
       "997    [in, hawaii, in, a, private, is, cruelly, puni...\n",
       "998    [several, survivors, of, a, torpedoed, merchan...\n",
       "999    [a, man, in, london, tries, to, help, a, count...\n",
       "Name: clean_overview, Length: 1000, dtype: object"
      ]
     },
     "execution_count": 176,
     "metadata": {},
     "output_type": "execute_result"
    }
   ],
   "source": [
    "# tokenize the sentence\n",
    "dfImdb['clean_overview'] = dfImdb['clean_overview'].apply(lambda x: nltk.word_tokenize(x))\n",
    "dfImdb['clean_overview']"
   ]
  },
  {
   "cell_type": "code",
   "execution_count": 177,
   "id": "152ffd5f",
   "metadata": {},
   "outputs": [],
   "source": [
    "stop_words = nltk.corpus.stopwords.words('english')\n",
    "overview = []\n",
    "for sentence in dfImdb['clean_overview']:\n",
    "    temp = []\n",
    "    for word in sentence:\n",
    "        if word not in stop_words and len(word) >= 3:\n",
    "            temp.append(word)\n",
    "    overview.append(temp)\n"
   ]
  },
  {
   "cell_type": "code",
   "execution_count": 178,
   "id": "b37123f3",
   "metadata": {},
   "outputs": [
    {
     "data": {
      "text/plain": [
       "0    [two, imprisoned, men, bond, number, years, fi...\n",
       "1    [organized, crime, dynasty, aging, patriarch, ...\n",
       "2    [menace, known, joker, wreaks, havoc, chaos, p...\n",
       "3    [early, life, career, vito, corleone, new, yor...\n",
       "4    [jury, holdout, attempts, prevent, miscarriage...\n",
       "Name: clean_overview, dtype: object"
      ]
     },
     "execution_count": 178,
     "metadata": {},
     "output_type": "execute_result"
    }
   ],
   "source": [
    "dfImdb['clean_overview'] = overview\n",
    "dfImdb['clean_overview'].head()"
   ]
  },
  {
   "cell_type": "code",
   "execution_count": 179,
   "id": "b2dfcb91",
   "metadata": {},
   "outputs": [
    {
     "data": {
      "text/html": [
       "<div>\n",
       "<style scoped>\n",
       "    .dataframe tbody tr th:only-of-type {\n",
       "        vertical-align: middle;\n",
       "    }\n",
       "\n",
       "    .dataframe tbody tr th {\n",
       "        vertical-align: top;\n",
       "    }\n",
       "\n",
       "    .dataframe thead th {\n",
       "        text-align: right;\n",
       "    }\n",
       "</style>\n",
       "<table border=\"1\" class=\"dataframe\">\n",
       "  <thead>\n",
       "    <tr style=\"text-align: right;\">\n",
       "      <th></th>\n",
       "      <th>Poster_Link</th>\n",
       "      <th>Series_Title</th>\n",
       "      <th>Released_Year</th>\n",
       "      <th>Certificate</th>\n",
       "      <th>Runtime</th>\n",
       "      <th>Genre</th>\n",
       "      <th>IMDB_Rating</th>\n",
       "      <th>Overview</th>\n",
       "      <th>Meta_score</th>\n",
       "      <th>Director</th>\n",
       "      <th>Star1</th>\n",
       "      <th>Star2</th>\n",
       "      <th>Star3</th>\n",
       "      <th>Star4</th>\n",
       "      <th>No_of_Votes</th>\n",
       "      <th>Gross</th>\n",
       "      <th>clean_overview</th>\n",
       "    </tr>\n",
       "  </thead>\n",
       "  <tbody>\n",
       "    <tr>\n",
       "      <th>0</th>\n",
       "      <td>https://m.media-amazon.com/images/M/MV5BMDFkYT...</td>\n",
       "      <td>The Shawshank Redemption</td>\n",
       "      <td>1994</td>\n",
       "      <td>A</td>\n",
       "      <td>142 min</td>\n",
       "      <td>Drama</td>\n",
       "      <td>9.3</td>\n",
       "      <td>Two imprisoned men bond over a number of years...</td>\n",
       "      <td>80.0</td>\n",
       "      <td>Frank Darabont</td>\n",
       "      <td>Tim Robbins</td>\n",
       "      <td>Morgan Freeman</td>\n",
       "      <td>Bob Gunton</td>\n",
       "      <td>William Sadler</td>\n",
       "      <td>2343110</td>\n",
       "      <td>28,341,469</td>\n",
       "      <td>[two, imprisoned, men, bond, number, years, fi...</td>\n",
       "    </tr>\n",
       "    <tr>\n",
       "      <th>1</th>\n",
       "      <td>https://m.media-amazon.com/images/M/MV5BM2MyNj...</td>\n",
       "      <td>The Godfather</td>\n",
       "      <td>1972</td>\n",
       "      <td>A</td>\n",
       "      <td>175 min</td>\n",
       "      <td>Crime, Drama</td>\n",
       "      <td>9.2</td>\n",
       "      <td>An organized crime dynasty's aging patriarch t...</td>\n",
       "      <td>100.0</td>\n",
       "      <td>Francis Ford Coppola</td>\n",
       "      <td>Marlon Brando</td>\n",
       "      <td>Al Pacino</td>\n",
       "      <td>James Caan</td>\n",
       "      <td>Diane Keaton</td>\n",
       "      <td>1620367</td>\n",
       "      <td>134,966,411</td>\n",
       "      <td>[organized, crime, dynasty, aging, patriarch, ...</td>\n",
       "    </tr>\n",
       "    <tr>\n",
       "      <th>2</th>\n",
       "      <td>https://m.media-amazon.com/images/M/MV5BMTMxNT...</td>\n",
       "      <td>The Dark Knight</td>\n",
       "      <td>2008</td>\n",
       "      <td>UA</td>\n",
       "      <td>152 min</td>\n",
       "      <td>Action, Crime, Drama</td>\n",
       "      <td>9.0</td>\n",
       "      <td>When the menace known as the Joker wreaks havo...</td>\n",
       "      <td>84.0</td>\n",
       "      <td>Christopher Nolan</td>\n",
       "      <td>Christian Bale</td>\n",
       "      <td>Heath Ledger</td>\n",
       "      <td>Aaron Eckhart</td>\n",
       "      <td>Michael Caine</td>\n",
       "      <td>2303232</td>\n",
       "      <td>534,858,444</td>\n",
       "      <td>[menace, known, joker, wreaks, havoc, chaos, p...</td>\n",
       "    </tr>\n",
       "    <tr>\n",
       "      <th>3</th>\n",
       "      <td>https://m.media-amazon.com/images/M/MV5BMWMwMG...</td>\n",
       "      <td>The Godfather: Part II</td>\n",
       "      <td>1974</td>\n",
       "      <td>A</td>\n",
       "      <td>202 min</td>\n",
       "      <td>Crime, Drama</td>\n",
       "      <td>9.0</td>\n",
       "      <td>The early life and career of Vito Corleone in ...</td>\n",
       "      <td>90.0</td>\n",
       "      <td>Francis Ford Coppola</td>\n",
       "      <td>Al Pacino</td>\n",
       "      <td>Robert De Niro</td>\n",
       "      <td>Robert Duvall</td>\n",
       "      <td>Diane Keaton</td>\n",
       "      <td>1129952</td>\n",
       "      <td>57,300,000</td>\n",
       "      <td>[early, life, career, vito, corleone, new, yor...</td>\n",
       "    </tr>\n",
       "    <tr>\n",
       "      <th>4</th>\n",
       "      <td>https://m.media-amazon.com/images/M/MV5BMWU4N2...</td>\n",
       "      <td>12 Angry Men</td>\n",
       "      <td>1957</td>\n",
       "      <td>U</td>\n",
       "      <td>96 min</td>\n",
       "      <td>Crime, Drama</td>\n",
       "      <td>9.0</td>\n",
       "      <td>A jury holdout attempts to prevent a miscarria...</td>\n",
       "      <td>96.0</td>\n",
       "      <td>Sidney Lumet</td>\n",
       "      <td>Henry Fonda</td>\n",
       "      <td>Lee J. Cobb</td>\n",
       "      <td>Martin Balsam</td>\n",
       "      <td>John Fiedler</td>\n",
       "      <td>689845</td>\n",
       "      <td>4,360,000</td>\n",
       "      <td>[jury, holdout, attempts, prevent, miscarriage...</td>\n",
       "    </tr>\n",
       "  </tbody>\n",
       "</table>\n",
       "</div>"
      ],
      "text/plain": [
       "                                         Poster_Link  \\\n",
       "0  https://m.media-amazon.com/images/M/MV5BMDFkYT...   \n",
       "1  https://m.media-amazon.com/images/M/MV5BM2MyNj...   \n",
       "2  https://m.media-amazon.com/images/M/MV5BMTMxNT...   \n",
       "3  https://m.media-amazon.com/images/M/MV5BMWMwMG...   \n",
       "4  https://m.media-amazon.com/images/M/MV5BMWU4N2...   \n",
       "\n",
       "               Series_Title Released_Year Certificate  Runtime  \\\n",
       "0  The Shawshank Redemption          1994           A  142 min   \n",
       "1             The Godfather          1972           A  175 min   \n",
       "2           The Dark Knight          2008          UA  152 min   \n",
       "3    The Godfather: Part II          1974           A  202 min   \n",
       "4              12 Angry Men          1957           U   96 min   \n",
       "\n",
       "                  Genre  IMDB_Rating  \\\n",
       "0                 Drama          9.3   \n",
       "1          Crime, Drama          9.2   \n",
       "2  Action, Crime, Drama          9.0   \n",
       "3          Crime, Drama          9.0   \n",
       "4          Crime, Drama          9.0   \n",
       "\n",
       "                                            Overview  Meta_score  \\\n",
       "0  Two imprisoned men bond over a number of years...        80.0   \n",
       "1  An organized crime dynasty's aging patriarch t...       100.0   \n",
       "2  When the menace known as the Joker wreaks havo...        84.0   \n",
       "3  The early life and career of Vito Corleone in ...        90.0   \n",
       "4  A jury holdout attempts to prevent a miscarria...        96.0   \n",
       "\n",
       "               Director           Star1           Star2          Star3  \\\n",
       "0        Frank Darabont     Tim Robbins  Morgan Freeman     Bob Gunton   \n",
       "1  Francis Ford Coppola   Marlon Brando       Al Pacino     James Caan   \n",
       "2     Christopher Nolan  Christian Bale    Heath Ledger  Aaron Eckhart   \n",
       "3  Francis Ford Coppola       Al Pacino  Robert De Niro  Robert Duvall   \n",
       "4          Sidney Lumet     Henry Fonda     Lee J. Cobb  Martin Balsam   \n",
       "\n",
       "            Star4  No_of_Votes        Gross  \\\n",
       "0  William Sadler      2343110   28,341,469   \n",
       "1    Diane Keaton      1620367  134,966,411   \n",
       "2   Michael Caine      2303232  534,858,444   \n",
       "3    Diane Keaton      1129952   57,300,000   \n",
       "4    John Fiedler       689845    4,360,000   \n",
       "\n",
       "                                      clean_overview  \n",
       "0  [two, imprisoned, men, bond, number, years, fi...  \n",
       "1  [organized, crime, dynasty, aging, patriarch, ...  \n",
       "2  [menace, known, joker, wreaks, havoc, chaos, p...  \n",
       "3  [early, life, career, vito, corleone, new, yor...  \n",
       "4  [jury, holdout, attempts, prevent, miscarriage...  "
      ]
     },
     "execution_count": 179,
     "metadata": {},
     "output_type": "execute_result"
    }
   ],
   "source": [
    "dfImdb.head()"
   ]
  },
  {
   "cell_type": "markdown",
   "id": "c4964bd9",
   "metadata": {},
   "source": [
    "Cleaning data from \"Genre\", \"Director\", \"Actors\" and merging them into the \"clean_overview\""
   ]
  },
  {
   "cell_type": "code",
   "execution_count": 180,
   "id": "952e6d50",
   "metadata": {},
   "outputs": [
    {
     "data": {
      "text/plain": [
       "0    [Tim Robbins, Morgan Freeman, Bob Gunton, Will...\n",
       "1    [Marlon Brando, Al Pacino, James Caan, Diane K...\n",
       "2    [Christian Bale, Heath Ledger, Aaron Eckhart, ...\n",
       "3    [Al Pacino, Robert De Niro, Robert Duvall, Dia...\n",
       "4    [Henry Fonda, Lee J. Cobb, Martin Balsam, John...\n",
       "Name: Actors, dtype: object"
      ]
     },
     "execution_count": 180,
     "metadata": {},
     "output_type": "execute_result"
    }
   ],
   "source": [
    "dfImdb['Genre'] = dfImdb['Genre'].apply(lambda x:x.split(','))\n",
    "dfImdb['Director'] = dfImdb['Director'].apply(lambda x:x.split(','))\n",
    "dfImdb['Actors'] = dfImdb['Star1'] + ',' + dfImdb['Star2'] + ',' + dfImdb['Star3'] + ',' + dfImdb['Star4']\n",
    "dfImdb['Actors'] = dfImdb['Actors'].apply(lambda x:x.split(','))\n",
    "dfImdb['Actors'].head()"
   ]
  },
  {
   "cell_type": "code",
   "execution_count": 181,
   "id": "a626844f",
   "metadata": {},
   "outputs": [],
   "source": [
    "columns = ['clean_overview', 'Genre', 'Actors', 'Director']\n",
    "\n",
    "list1 = merge_Columns(columns,dfImdb)\n"
   ]
  },
  {
   "cell_type": "code",
   "execution_count": 182,
   "id": "b9d07260",
   "metadata": {},
   "outputs": [
    {
     "data": {
      "text/html": [
       "<div>\n",
       "<style scoped>\n",
       "    .dataframe tbody tr th:only-of-type {\n",
       "        vertical-align: middle;\n",
       "    }\n",
       "\n",
       "    .dataframe tbody tr th {\n",
       "        vertical-align: top;\n",
       "    }\n",
       "\n",
       "    .dataframe thead th {\n",
       "        text-align: right;\n",
       "    }\n",
       "</style>\n",
       "<table border=\"1\" class=\"dataframe\">\n",
       "  <thead>\n",
       "    <tr style=\"text-align: right;\">\n",
       "      <th></th>\n",
       "      <th>Series_Title</th>\n",
       "      <th>clean_data</th>\n",
       "    </tr>\n",
       "  </thead>\n",
       "  <tbody>\n",
       "    <tr>\n",
       "      <th>0</th>\n",
       "      <td>The Shawshank Redemption</td>\n",
       "      <td>two imprisoned men bond number years finding s...</td>\n",
       "    </tr>\n",
       "    <tr>\n",
       "      <th>1</th>\n",
       "      <td>The Godfather</td>\n",
       "      <td>organized crime dynasty aging patriarch transf...</td>\n",
       "    </tr>\n",
       "    <tr>\n",
       "      <th>2</th>\n",
       "      <td>The Dark Knight</td>\n",
       "      <td>menace known joker wreaks havoc chaos people g...</td>\n",
       "    </tr>\n",
       "    <tr>\n",
       "      <th>3</th>\n",
       "      <td>The Godfather: Part II</td>\n",
       "      <td>early life career vito corleone new york city ...</td>\n",
       "    </tr>\n",
       "    <tr>\n",
       "      <th>4</th>\n",
       "      <td>12 Angry Men</td>\n",
       "      <td>jury holdout attempts prevent miscarriage just...</td>\n",
       "    </tr>\n",
       "  </tbody>\n",
       "</table>\n",
       "</div>"
      ],
      "text/plain": [
       "               Series_Title                                         clean_data\n",
       "0  The Shawshank Redemption  two imprisoned men bond number years finding s...\n",
       "1             The Godfather  organized crime dynasty aging patriarch transf...\n",
       "2           The Dark Knight  menace known joker wreaks havoc chaos people g...\n",
       "3    The Godfather: Part II  early life career vito corleone new york city ...\n",
       "4              12 Angry Men  jury holdout attempts prevent miscarriage just..."
      ]
     },
     "execution_count": 182,
     "metadata": {},
     "output_type": "execute_result"
    }
   ],
   "source": [
    "dfImdb['clean_data'] = list1\n",
    "dfImdb = dfImdb[['Series_Title' , 'clean_data']]\n",
    "dfImdb.head()"
   ]
  },
  {
   "cell_type": "markdown",
   "id": "52601cfb",
   "metadata": {},
   "source": [
    "#### Clustering Method\n",
    "Used fit_transform on the training data. <br/> It calculates the mean and variance from feature and transform the features using the respective mean and variance"
   ]
  },
  {
   "cell_type": "code",
   "execution_count": 183,
   "id": "3bcbd7b0",
   "metadata": {},
   "outputs": [],
   "source": [
    "from sklearn.feature_extraction.text import TfidfVectorizer, CountVectorizer\n",
    "tfidf = TfidfVectorizer()\n",
    "features = tfidf.fit_transform(dfImdb['clean_data'])"
   ]
  },
  {
   "cell_type": "markdown",
   "id": "acf1b5dc",
   "metadata": {},
   "source": [
    "#### Utilising Cosine Similarity for Features"
   ]
  },
  {
   "cell_type": "code",
   "execution_count": 184,
   "id": "a0956f96",
   "metadata": {},
   "outputs": [
    {
     "name": "stdout",
     "output_type": "stream",
     "text": [
      "[[1.         0.00218733 0.00183793 ... 0.00204196 0.02526451 0.        ]\n",
      " [0.00218733 1.         0.01562771 ... 0.00208217 0.00198571 0.01333232]\n",
      " [0.00183793 0.01562771 1.         ... 0.00174956 0.01618721 0.01940358]\n",
      " ...\n",
      " [0.00204196 0.00208217 0.00174956 ... 1.         0.02616746 0.        ]\n",
      " [0.02526451 0.00198571 0.01618721 ... 0.02616746 1.         0.04940112]\n",
      " [0.         0.01333232 0.01940358 ... 0.         0.04940112 1.        ]]\n"
     ]
    }
   ],
   "source": [
    "from sklearn.metrics.pairwise import cosine_similarity\n",
    "cosine_sim = cosine_similarity(features, features)\n",
    "print(cosine_sim)"
   ]
  },
  {
   "cell_type": "markdown",
   "id": "6bbf94c1",
   "metadata": {},
   "source": [
    "#### Utilising Euclidean Distance for Features"
   ]
  },
  {
   "cell_type": "code",
   "execution_count": 185,
   "id": "f0c921dc",
   "metadata": {},
   "outputs": [
    {
     "name": "stdout",
     "output_type": "stream",
     "text": [
      "[[0.         1.41266604 1.41291335 ... 1.41276894 1.39623457 1.41421356]\n",
      " [1.41266604 0.         1.40311959 ... 1.41274048 1.41280876 1.40475456]\n",
      " [1.41291335 1.40311959 0.         ... 1.41297589 1.40272078 1.40042595]\n",
      " ...\n",
      " [1.41276894 1.41274048 1.41297589 ... 0.         1.39558772 1.41421356]\n",
      " [1.39623457 1.41280876 1.40272078 ... 1.39558772 0.         1.37883928]\n",
      " [1.41421356 1.40475456 1.40042595 ... 1.41421356 1.37883928 0.        ]]\n"
     ]
    }
   ],
   "source": [
    "from sklearn.metrics.pairwise import euclidean_distances\n",
    "euclidean_dist = euclidean_distances(features,features)\n",
    "print(euclidean_dist)"
   ]
  },
  {
   "cell_type": "markdown",
   "id": "67ef430a",
   "metadata": {},
   "source": [
    "From the list below of series below, the recommendation system must be able to recommend series with the closest similarity"
   ]
  },
  {
   "cell_type": "code",
   "execution_count": 186,
   "id": "53e61ff8",
   "metadata": {},
   "outputs": [
    {
     "data": {
      "text/plain": [
       "0    The Shawshank Redemption\n",
       "1               The Godfather\n",
       "2             The Dark Knight\n",
       "3      The Godfather: Part II\n",
       "4                12 Angry Men\n",
       "Name: Series_Title, dtype: object"
      ]
     },
     "execution_count": 186,
     "metadata": {},
     "output_type": "execute_result"
    }
   ],
   "source": [
    "index = pd.Series(dfImdb['Series_Title'])\n",
    "index.head()"
   ]
  },
  {
   "cell_type": "code",
   "execution_count": 187,
   "id": "7ef202d3",
   "metadata": {},
   "outputs": [],
   "source": [
    "def movie_recommendation(series_title):\n",
    "    movies = []\n",
    "    idx = index[index == series_title].index[0]\n",
    "    print(\"MOVIE INDEX:\")\n",
    "    print(idx)\n",
    "\n",
    "    score = pd.Series(cosine_sim[idx]).sort_values(ascending=False)\n",
    "    print('')\n",
    "    print('COS SIM SCORE:')\n",
    "    print(score)\n",
    "    top10 = list(score.iloc[1:11].index)\n",
    "    \n",
    "    print('')\n",
    "    print('TOP 10 RECS:')\n",
    "    print(top10)\n",
    "\n",
    "    for i in top10:\n",
    "        movies.append(dfImdb['Series_Title'][i])\n",
    "    return movies"
   ]
  },
  {
   "cell_type": "code",
   "execution_count": 188,
   "id": "19e637f1",
   "metadata": {},
   "outputs": [],
   "source": [
    "def movie_recommendation_ed(series_title):\n",
    "    movies = []\n",
    "    idx = index[index == series_title].index[0]\n",
    "    print(\"MOVIE INDEX:\")\n",
    "    print(idx)\n",
    "\n",
    "    score = pd.Series(euclidean_dist[idx]).sort_values(ascending=True)\n",
    "    print('')\n",
    "    print('EUCLIDEAN DISTANCE SCORE:')\n",
    "    print(score)\n",
    "    top10 = list(score.iloc[1:11].index)\n",
    "    \n",
    "    print('')\n",
    "    print('TOP 10 RECS:')\n",
    "    print(top10)\n",
    "\n",
    "    for i in top10:\n",
    "        movies.append(dfImdb['Series_Title'][i])\n",
    "    return movies"
   ]
  },
  {
   "cell_type": "code",
   "execution_count": 189,
   "id": "c29fc416",
   "metadata": {},
   "outputs": [],
   "source": [
    "from sklearn.model_selection import train_test_split\n",
    "train_data, test_data = train_test_split(euclidean_dist, test_size=0.2)\n",
    "\n",
    "# Function to predict ratings\n",
    "def predict(data, similarity, type='item'):\n",
    "    if type == 'item':\n",
    "        pred = data.dot(similarity) / np.array([np.abs(similarity).sum(axis=1)])\n",
    "    return pred\n"
   ]
  },
  {
   "cell_type": "code",
   "execution_count": 190,
   "id": "61458b0d",
   "metadata": {},
   "outputs": [
    {
     "name": "stdout",
     "output_type": "stream",
     "text": [
      "Item-based CF RMSE: 0.04021107104440173\n"
     ]
    }
   ],
   "source": [
    "from sklearn.metrics import mean_squared_error\n",
    "from math import sqrt\n",
    "\n",
    "# Function to calculate RMSE\n",
    "def rmse(pred, actual):\n",
    "    return sqrt(mean_squared_error(pred, actual))\n",
    "\n",
    "# Predict ratings on the training data with similarity score\n",
    "item_prediction = predict(train_data, cosine_sim, type='item')\n",
    "\n",
    "# RMSE on the train data\n",
    "print('Item-based CF RMSE: ' + str(rmse(item_prediction, train_data)))"
   ]
  },
  {
   "cell_type": "markdown",
   "id": "934523f7",
   "metadata": {},
   "source": [
    "To run the movie_recommendation(\"Movie_Title\") <br>\n",
    "Ensure that movie is in movies.csv database"
   ]
  },
  {
   "cell_type": "code",
   "execution_count": 191,
   "id": "ccba905b",
   "metadata": {},
   "outputs": [
    {
     "name": "stdout",
     "output_type": "stream",
     "text": [
      "MOVIE INDEX:\n",
      "2\n",
      "\n",
      "COS SIM SCORE:\n",
      "2      1.000000\n",
      "155    0.317608\n",
      "63     0.226108\n",
      "36     0.156625\n",
      "773    0.114832\n",
      "         ...   \n",
      "395    0.000000\n",
      "158    0.000000\n",
      "892    0.000000\n",
      "170    0.000000\n",
      "919    0.000000\n",
      "Length: 1000, dtype: float64\n",
      "\n",
      "TOP 10 RECS:\n",
      "[155, 63, 36, 773, 241, 33, 832, 778, 692, 573]\n"
     ]
    },
    {
     "data": {
      "text/plain": [
       "['Batman Begins',\n",
       " 'The Dark Knight Rises',\n",
       " 'The Prestige',\n",
       " 'Brokeback Mountain',\n",
       " 'Kill Bill: Vol. 1',\n",
       " 'Joker',\n",
       " 'Empire of the Sun',\n",
       " 'The Machinist',\n",
       " 'The Man Who Would Be King',\n",
       " 'Dunkirk']"
      ]
     },
     "execution_count": 191,
     "metadata": {},
     "output_type": "execute_result"
    }
   ],
   "source": [
    "movie_recommendation('The Dark Knight')"
   ]
  },
  {
   "cell_type": "code",
   "execution_count": 192,
   "id": "7533a7d8",
   "metadata": {},
   "outputs": [
    {
     "name": "stdout",
     "output_type": "stream",
     "text": [
      "MOVIE INDEX:\n",
      "59\n",
      "\n",
      "COS SIM SCORE:\n",
      "59     1.000000\n",
      "60     0.519333\n",
      "583    0.407409\n",
      "737    0.221160\n",
      "767    0.130815\n",
      "         ...   \n",
      "120    0.000000\n",
      "539    0.000000\n",
      "125    0.000000\n",
      "316    0.000000\n",
      "309    0.000000\n",
      "Length: 1000, dtype: float64\n",
      "\n",
      "TOP 10 RECS:\n",
      "[60, 583, 737, 767, 357, 339, 914, 744, 473, 502]\n"
     ]
    },
    {
     "data": {
      "text/plain": [
       "['Avengers: Infinity War',\n",
       " 'Captain America: Civil War',\n",
       " 'Captain America: The Winter Soldier',\n",
       " 'Zodiac',\n",
       " 'The Avengers',\n",
       " 'Guardians of the Galaxy',\n",
       " 'Sherlock Holmes',\n",
       " 'The Lego Movie',\n",
       " 'Thor: Ragnarok',\n",
       " 'Iron Man']"
      ]
     },
     "execution_count": 192,
     "metadata": {},
     "output_type": "execute_result"
    }
   ],
   "source": [
    "movie_recommendation('Avengers: Endgame')"
   ]
  },
  {
   "cell_type": "code",
   "execution_count": 193,
   "id": "d3c366c8",
   "metadata": {},
   "outputs": [
    {
     "name": "stdout",
     "output_type": "stream",
     "text": [
      "MOVIE INDEX:\n",
      "59\n",
      "\n",
      "EUCLIDEAN DISTANCE SCORE:\n",
      "59     0.000000\n",
      "60     0.980476\n",
      "583    1.088661\n",
      "737    1.248071\n",
      "767    1.318472\n",
      "         ...   \n",
      "959    1.414214\n",
      "948    1.414214\n",
      "698    1.414214\n",
      "724    1.414214\n",
      "562    1.414214\n",
      "Length: 1000, dtype: float64\n",
      "\n",
      "TOP 10 RECS:\n",
      "[60, 583, 737, 767, 357, 339, 914, 744, 473, 502]\n"
     ]
    },
    {
     "data": {
      "text/plain": [
       "['Avengers: Infinity War',\n",
       " 'Captain America: Civil War',\n",
       " 'Captain America: The Winter Soldier',\n",
       " 'Zodiac',\n",
       " 'The Avengers',\n",
       " 'Guardians of the Galaxy',\n",
       " 'Sherlock Holmes',\n",
       " 'The Lego Movie',\n",
       " 'Thor: Ragnarok',\n",
       " 'Iron Man']"
      ]
     },
     "execution_count": 193,
     "metadata": {},
     "output_type": "execute_result"
    }
   ],
   "source": [
    "movie_recommendation_ed(\"Avengers: Endgame\")"
   ]
  },
  {
   "cell_type": "code",
   "execution_count": 194,
   "id": "7cdcaab5",
   "metadata": {},
   "outputs": [
    {
     "name": "stdout",
     "output_type": "stream",
     "text": [
      "MOVIE INDEX:\n",
      "2\n",
      "\n",
      "EUCLIDEAN DISTANCE SCORE:\n",
      "2      0.000000\n",
      "155    1.168240\n",
      "63     1.244100\n",
      "36     1.298749\n",
      "773    1.330540\n",
      "         ...   \n",
      "808    1.414214\n",
      "309    1.414214\n",
      "119    1.414214\n",
      "158    1.414214\n",
      "242    1.414214\n",
      "Length: 1000, dtype: float64\n",
      "\n",
      "TOP 10 RECS:\n",
      "[155, 63, 36, 773, 241, 33, 832, 778, 692, 573]\n"
     ]
    },
    {
     "data": {
      "text/plain": [
       "['Batman Begins',\n",
       " 'The Dark Knight Rises',\n",
       " 'The Prestige',\n",
       " 'Brokeback Mountain',\n",
       " 'Kill Bill: Vol. 1',\n",
       " 'Joker',\n",
       " 'Empire of the Sun',\n",
       " 'The Machinist',\n",
       " 'The Man Who Would Be King',\n",
       " 'Dunkirk']"
      ]
     },
     "execution_count": 194,
     "metadata": {},
     "output_type": "execute_result"
    }
   ],
   "source": [
    "movie_recommendation_ed('The Dark Knight')"
   ]
  }
 ],
 "metadata": {
  "kernelspec": {
   "display_name": "Python 3 (ipykernel)",
   "language": "python",
   "name": "python3"
  },
  "language_info": {
   "codemirror_mode": {
    "name": "ipython",
    "version": 3
   },
   "file_extension": ".py",
   "mimetype": "text/x-python",
   "name": "python",
   "nbconvert_exporter": "python",
   "pygments_lexer": "ipython3",
   "version": "3.10.2"
  },
  "vscode": {
   "interpreter": {
    "hash": "5e4bda67f9838be16d189b50da62d733f7c09545de52b735a31e173c43804dd6"
   }
  }
 },
 "nbformat": 4,
 "nbformat_minor": 5
}
